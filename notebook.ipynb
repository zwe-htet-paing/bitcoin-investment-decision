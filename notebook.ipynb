{
 "cells": [
  {
   "cell_type": "markdown",
   "metadata": {},
   "source": [
    "### Import necessary Libraries"
   ]
  },
  {
   "cell_type": "code",
   "execution_count": 1,
   "metadata": {},
   "outputs": [],
   "source": [
    "import numpy as np\n",
    "import pandas as pd\n",
    "import seaborn as sns\n",
    "from matplotlib import pyplot as plt\n",
    "\n",
    "from sklearn.linear_model import LogisticRegression\n",
    "from sklearn.feature_extraction import DictVectorizer\n",
    "from sklearn.preprocessing import StandardScaler\n",
    "from sklearn.model_selection import train_test_split\n",
    "\n",
    "from sklearn.tree import DecisionTreeClassifier\n",
    "from sklearn.tree import export_text\n",
    "\n",
    "from sklearn.ensemble import RandomForestClassifier\n",
    "\n",
    "import xgboost as xgb\n",
    "\n",
    "from sklearn.metrics import roc_auc_score\n",
    "from sklearn.metrics import accuracy_score\n",
    "from sklearn.metrics import mutual_info_score\n",
    "\n",
    "import re\n",
    "from tqdm import tqdm\n",
    "import warnings\n",
    "warnings.filterwarnings('ignore')"
   ]
  },
  {
   "cell_type": "markdown",
   "metadata": {},
   "source": [
    "### Load Dataset\n"
   ]
  },
  {
   "cell_type": "code",
   "execution_count": null,
   "metadata": {},
   "outputs": [
    {
     "data": {
      "text/html": [
       "<div>\n",
       "<style scoped>\n",
       "    .dataframe tbody tr th:only-of-type {\n",
       "        vertical-align: middle;\n",
       "    }\n",
       "\n",
       "    .dataframe tbody tr th {\n",
       "        vertical-align: top;\n",
       "    }\n",
       "\n",
       "    .dataframe thead th {\n",
       "        text-align: right;\n",
       "    }\n",
       "</style>\n",
       "<table border=\"1\" class=\"dataframe\">\n",
       "  <thead>\n",
       "    <tr style=\"text-align: right;\">\n",
       "      <th></th>\n",
       "      <th>Date</th>\n",
       "      <th>Open</th>\n",
       "      <th>High</th>\n",
       "      <th>Low</th>\n",
       "      <th>Close</th>\n",
       "      <th>Adj Close</th>\n",
       "      <th>Volume</th>\n",
       "    </tr>\n",
       "  </thead>\n",
       "  <tbody>\n",
       "    <tr>\n",
       "      <th>0</th>\n",
       "      <td>2018-10-31</td>\n",
       "      <td>6336.990234</td>\n",
       "      <td>6349.160156</td>\n",
       "      <td>6316.879883</td>\n",
       "      <td>6317.609863</td>\n",
       "      <td>6317.609863</td>\n",
       "      <td>4191240000</td>\n",
       "    </tr>\n",
       "    <tr>\n",
       "      <th>1</th>\n",
       "      <td>2018-11-01</td>\n",
       "      <td>6318.140137</td>\n",
       "      <td>6547.140137</td>\n",
       "      <td>6311.830078</td>\n",
       "      <td>6377.779785</td>\n",
       "      <td>6377.779785</td>\n",
       "      <td>3789400000</td>\n",
       "    </tr>\n",
       "    <tr>\n",
       "      <th>2</th>\n",
       "      <td>2018-11-02</td>\n",
       "      <td>6378.919922</td>\n",
       "      <td>6396.859863</td>\n",
       "      <td>6327.379883</td>\n",
       "      <td>6388.439941</td>\n",
       "      <td>6388.439941</td>\n",
       "      <td>4234870000</td>\n",
       "    </tr>\n",
       "    <tr>\n",
       "      <th>3</th>\n",
       "      <td>2018-11-03</td>\n",
       "      <td>6387.240234</td>\n",
       "      <td>6400.069824</td>\n",
       "      <td>6342.370117</td>\n",
       "      <td>6361.259766</td>\n",
       "      <td>6361.259766</td>\n",
       "      <td>3658640000</td>\n",
       "    </tr>\n",
       "    <tr>\n",
       "      <th>4</th>\n",
       "      <td>2018-11-04</td>\n",
       "      <td>6365.470215</td>\n",
       "      <td>6388.629883</td>\n",
       "      <td>6294.569824</td>\n",
       "      <td>6376.129883</td>\n",
       "      <td>6376.129883</td>\n",
       "      <td>4390020000</td>\n",
       "    </tr>\n",
       "  </tbody>\n",
       "</table>\n",
       "</div>"
      ],
      "text/plain": [
       "         Date         Open         High          Low        Close  \\\n",
       "0  2018-10-31  6336.990234  6349.160156  6316.879883  6317.609863   \n",
       "1  2018-11-01  6318.140137  6547.140137  6311.830078  6377.779785   \n",
       "2  2018-11-02  6378.919922  6396.859863  6327.379883  6388.439941   \n",
       "3  2018-11-03  6387.240234  6400.069824  6342.370117  6361.259766   \n",
       "4  2018-11-04  6365.470215  6388.629883  6294.569824  6376.129883   \n",
       "\n",
       "     Adj Close      Volume  \n",
       "0  6317.609863  4191240000  \n",
       "1  6377.779785  3789400000  \n",
       "2  6388.439941  4234870000  \n",
       "3  6361.259766  3658640000  \n",
       "4  6376.129883  4390020000  "
      ]
     },
     "execution_count": 2,
     "metadata": {},
     "output_type": "execute_result"
    }
   ],
   "source": [
    "# https://finance.yahoo.com/quote/BTC-USD/history?p=BTC-USD&guccounter=1\n",
    "data = pd.read_csv('dataset/BTC-USD.csv')\n",
    "data.head()"
   ]
  },
  {
   "cell_type": "code",
   "execution_count": 3,
   "metadata": {},
   "outputs": [
    {
     "data": {
      "text/plain": [
       "(1827, 7)"
      ]
     },
     "execution_count": 3,
     "metadata": {},
     "output_type": "execute_result"
    }
   ],
   "source": [
    "data.shape"
   ]
  },
  {
   "cell_type": "code",
   "execution_count": 4,
   "metadata": {},
   "outputs": [
    {
     "name": "stdout",
     "output_type": "stream",
     "text": [
      "<class 'pandas.core.frame.DataFrame'>\n",
      "RangeIndex: 1827 entries, 0 to 1826\n",
      "Data columns (total 7 columns):\n",
      " #   Column     Non-Null Count  Dtype  \n",
      "---  ------     --------------  -----  \n",
      " 0   Date       1827 non-null   object \n",
      " 1   Open       1827 non-null   float64\n",
      " 2   High       1827 non-null   float64\n",
      " 3   Low        1827 non-null   float64\n",
      " 4   Close      1827 non-null   float64\n",
      " 5   Adj Close  1827 non-null   float64\n",
      " 6   Volume     1827 non-null   int64  \n",
      "dtypes: float64(5), int64(1), object(1)\n",
      "memory usage: 100.0+ KB\n"
     ]
    }
   ],
   "source": [
    "data.info()"
   ]
  },
  {
   "cell_type": "code",
   "execution_count": 5,
   "metadata": {},
   "outputs": [
    {
     "data": {
      "text/html": [
       "<div>\n",
       "<style scoped>\n",
       "    .dataframe tbody tr th:only-of-type {\n",
       "        vertical-align: middle;\n",
       "    }\n",
       "\n",
       "    .dataframe tbody tr th {\n",
       "        vertical-align: top;\n",
       "    }\n",
       "\n",
       "    .dataframe thead th {\n",
       "        text-align: right;\n",
       "    }\n",
       "</style>\n",
       "<table border=\"1\" class=\"dataframe\">\n",
       "  <thead>\n",
       "    <tr style=\"text-align: right;\">\n",
       "      <th></th>\n",
       "      <th>Open</th>\n",
       "      <th>High</th>\n",
       "      <th>Low</th>\n",
       "      <th>Close</th>\n",
       "      <th>Adj Close</th>\n",
       "      <th>Volume</th>\n",
       "    </tr>\n",
       "  </thead>\n",
       "  <tbody>\n",
       "    <tr>\n",
       "      <th>count</th>\n",
       "      <td>1827.000000</td>\n",
       "      <td>1827.000000</td>\n",
       "      <td>1827.000000</td>\n",
       "      <td>1827.000000</td>\n",
       "      <td>1827.000000</td>\n",
       "      <td>1.827000e+03</td>\n",
       "    </tr>\n",
       "    <tr>\n",
       "      <th>mean</th>\n",
       "      <td>23399.509982</td>\n",
       "      <td>23937.344490</td>\n",
       "      <td>22818.715253</td>\n",
       "      <td>23412.610651</td>\n",
       "      <td>23412.610651</td>\n",
       "      <td>2.849508e+10</td>\n",
       "    </tr>\n",
       "    <tr>\n",
       "      <th>std</th>\n",
       "      <td>16202.844316</td>\n",
       "      <td>16619.593375</td>\n",
       "      <td>15719.217682</td>\n",
       "      <td>16195.608850</td>\n",
       "      <td>16195.608850</td>\n",
       "      <td>1.855361e+10</td>\n",
       "    </tr>\n",
       "    <tr>\n",
       "      <th>min</th>\n",
       "      <td>3236.274658</td>\n",
       "      <td>3275.377930</td>\n",
       "      <td>3191.303467</td>\n",
       "      <td>3236.761719</td>\n",
       "      <td>3236.761719</td>\n",
       "      <td>3.551764e+09</td>\n",
       "    </tr>\n",
       "    <tr>\n",
       "      <th>25%</th>\n",
       "      <td>9275.281250</td>\n",
       "      <td>9413.937500</td>\n",
       "      <td>9156.262207</td>\n",
       "      <td>9278.387695</td>\n",
       "      <td>9278.387695</td>\n",
       "      <td>1.642343e+10</td>\n",
       "    </tr>\n",
       "    <tr>\n",
       "      <th>50%</th>\n",
       "      <td>20242.289063</td>\n",
       "      <td>20724.980469</td>\n",
       "      <td>19848.078125</td>\n",
       "      <td>20280.634766</td>\n",
       "      <td>20280.634766</td>\n",
       "      <td>2.545047e+10</td>\n",
       "    </tr>\n",
       "    <tr>\n",
       "      <th>75%</th>\n",
       "      <td>34036.814453</td>\n",
       "      <td>34876.597657</td>\n",
       "      <td>32734.328125</td>\n",
       "      <td>34025.847657</td>\n",
       "      <td>34025.847657</td>\n",
       "      <td>3.615833e+10</td>\n",
       "    </tr>\n",
       "    <tr>\n",
       "      <th>max</th>\n",
       "      <td>67549.734375</td>\n",
       "      <td>68789.625000</td>\n",
       "      <td>66382.062500</td>\n",
       "      <td>67566.828125</td>\n",
       "      <td>67566.828125</td>\n",
       "      <td>3.509679e+11</td>\n",
       "    </tr>\n",
       "  </tbody>\n",
       "</table>\n",
       "</div>"
      ],
      "text/plain": [
       "               Open          High           Low         Close     Adj Close  \\\n",
       "count   1827.000000   1827.000000   1827.000000   1827.000000   1827.000000   \n",
       "mean   23399.509982  23937.344490  22818.715253  23412.610651  23412.610651   \n",
       "std    16202.844316  16619.593375  15719.217682  16195.608850  16195.608850   \n",
       "min     3236.274658   3275.377930   3191.303467   3236.761719   3236.761719   \n",
       "25%     9275.281250   9413.937500   9156.262207   9278.387695   9278.387695   \n",
       "50%    20242.289063  20724.980469  19848.078125  20280.634766  20280.634766   \n",
       "75%    34036.814453  34876.597657  32734.328125  34025.847657  34025.847657   \n",
       "max    67549.734375  68789.625000  66382.062500  67566.828125  67566.828125   \n",
       "\n",
       "             Volume  \n",
       "count  1.827000e+03  \n",
       "mean   2.849508e+10  \n",
       "std    1.855361e+10  \n",
       "min    3.551764e+09  \n",
       "25%    1.642343e+10  \n",
       "50%    2.545047e+10  \n",
       "75%    3.615833e+10  \n",
       "max    3.509679e+11  "
      ]
     },
     "execution_count": 5,
     "metadata": {},
     "output_type": "execute_result"
    }
   ],
   "source": [
    "data.describe()"
   ]
  },
  {
   "cell_type": "code",
   "execution_count": 6,
   "metadata": {},
   "outputs": [
    {
     "data": {
      "text/plain": [
       "Date         0\n",
       "Open         0\n",
       "High         0\n",
       "Low          0\n",
       "Close        0\n",
       "Adj Close    0\n",
       "Volume       0\n",
       "dtype: int64"
      ]
     },
     "execution_count": 6,
     "metadata": {},
     "output_type": "execute_result"
    }
   ],
   "source": [
    "data.isnull().sum()"
   ]
  },
  {
   "cell_type": "code",
   "execution_count": 7,
   "metadata": {},
   "outputs": [
    {
     "data": {
      "text/plain": [
       "Date          object\n",
       "Open         float64\n",
       "High         float64\n",
       "Low          float64\n",
       "Close        float64\n",
       "Adj Close    float64\n",
       "Volume         int64\n",
       "dtype: object"
      ]
     },
     "execution_count": 7,
     "metadata": {},
     "output_type": "execute_result"
    }
   ],
   "source": [
    "data.dtypes"
   ]
  },
  {
   "cell_type": "markdown",
   "metadata": {},
   "source": [
    "### EDA\n"
   ]
  },
  {
   "cell_type": "code",
   "execution_count": 8,
   "metadata": {},
   "outputs": [
    {
     "data": {
      "text/html": [
       "<div>\n",
       "<style scoped>\n",
       "    .dataframe tbody tr th:only-of-type {\n",
       "        vertical-align: middle;\n",
       "    }\n",
       "\n",
       "    .dataframe tbody tr th {\n",
       "        vertical-align: top;\n",
       "    }\n",
       "\n",
       "    .dataframe thead th {\n",
       "        text-align: right;\n",
       "    }\n",
       "</style>\n",
       "<table border=\"1\" class=\"dataframe\">\n",
       "  <thead>\n",
       "    <tr style=\"text-align: right;\">\n",
       "      <th></th>\n",
       "      <th>date</th>\n",
       "      <th>open</th>\n",
       "      <th>high</th>\n",
       "      <th>low</th>\n",
       "      <th>close</th>\n",
       "      <th>adj_close</th>\n",
       "      <th>volume</th>\n",
       "    </tr>\n",
       "  </thead>\n",
       "  <tbody>\n",
       "    <tr>\n",
       "      <th>0</th>\n",
       "      <td>2018-10-31</td>\n",
       "      <td>6336.990234</td>\n",
       "      <td>6349.160156</td>\n",
       "      <td>6316.879883</td>\n",
       "      <td>6317.609863</td>\n",
       "      <td>6317.609863</td>\n",
       "      <td>4191240000</td>\n",
       "    </tr>\n",
       "    <tr>\n",
       "      <th>1</th>\n",
       "      <td>2018-11-01</td>\n",
       "      <td>6318.140137</td>\n",
       "      <td>6547.140137</td>\n",
       "      <td>6311.830078</td>\n",
       "      <td>6377.779785</td>\n",
       "      <td>6377.779785</td>\n",
       "      <td>3789400000</td>\n",
       "    </tr>\n",
       "    <tr>\n",
       "      <th>2</th>\n",
       "      <td>2018-11-02</td>\n",
       "      <td>6378.919922</td>\n",
       "      <td>6396.859863</td>\n",
       "      <td>6327.379883</td>\n",
       "      <td>6388.439941</td>\n",
       "      <td>6388.439941</td>\n",
       "      <td>4234870000</td>\n",
       "    </tr>\n",
       "    <tr>\n",
       "      <th>3</th>\n",
       "      <td>2018-11-03</td>\n",
       "      <td>6387.240234</td>\n",
       "      <td>6400.069824</td>\n",
       "      <td>6342.370117</td>\n",
       "      <td>6361.259766</td>\n",
       "      <td>6361.259766</td>\n",
       "      <td>3658640000</td>\n",
       "    </tr>\n",
       "    <tr>\n",
       "      <th>4</th>\n",
       "      <td>2018-11-04</td>\n",
       "      <td>6365.470215</td>\n",
       "      <td>6388.629883</td>\n",
       "      <td>6294.569824</td>\n",
       "      <td>6376.129883</td>\n",
       "      <td>6376.129883</td>\n",
       "      <td>4390020000</td>\n",
       "    </tr>\n",
       "  </tbody>\n",
       "</table>\n",
       "</div>"
      ],
      "text/plain": [
       "         date         open         high          low        close  \\\n",
       "0  2018-10-31  6336.990234  6349.160156  6316.879883  6317.609863   \n",
       "1  2018-11-01  6318.140137  6547.140137  6311.830078  6377.779785   \n",
       "2  2018-11-02  6378.919922  6396.859863  6327.379883  6388.439941   \n",
       "3  2018-11-03  6387.240234  6400.069824  6342.370117  6361.259766   \n",
       "4  2018-11-04  6365.470215  6388.629883  6294.569824  6376.129883   \n",
       "\n",
       "     adj_close      volume  \n",
       "0  6317.609863  4191240000  \n",
       "1  6377.779785  3789400000  \n",
       "2  6388.439941  4234870000  \n",
       "3  6361.259766  3658640000  \n",
       "4  6376.129883  4390020000  "
      ]
     },
     "execution_count": 8,
     "metadata": {},
     "output_type": "execute_result"
    }
   ],
   "source": [
    "data.columns = data.columns.str.replace(' ', '_').str.lower()\n",
    "data.head()"
   ]
  },
  {
   "cell_type": "code",
   "execution_count": 9,
   "metadata": {},
   "outputs": [
    {
     "data": {
      "image/png": "[encoded data removed]",
      "text/plain": [
       "<Figure size 1500x500 with 1 Axes>"
      ]
     },
     "metadata": {},
     "output_type": "display_data"
    }
   ],
   "source": [
    "\n",
    "plt.figure(figsize=(15, 5))\n",
    "plt.plot(data['open'], color='green', label='Open')\n",
    "plt.plot(data['close'], color='red', label='Close')\n",
    "plt.title('Opening & Closing Price of Bitcoin.', fontsize=15)\n",
    "plt.ylabel('Price in dollars.')\n",
    "plt.legend()\n",
    "plt.show()"
   ]
  },
  {
   "cell_type": "code",
   "execution_count": 10,
   "metadata": {},
   "outputs": [
    {
     "data": {
      "image/png": "[encoded data removed]",
      "text/plain": [
       "<Figure size 1500x500 with 1 Axes>"
      ]
     },
     "metadata": {},
     "output_type": "display_data"
    }
   ],
   "source": [
    "plt.figure(figsize=(15, 5))\n",
    "plt.plot(data['high'], color='green', label='Open')\n",
    "plt.plot(data['low'], color='red', label='Close')\n",
    "plt.title('High & Low Price of Bitcoin.', fontsize=15)\n",
    "plt.ylabel('Price in dollars.')\n",
    "plt.legend()\n",
    "plt.show()"
   ]
  },
  {
   "cell_type": "code",
   "execution_count": 11,
   "metadata": {},
   "outputs": [
    {
     "data": {
      "text/plain": [
       "((1827, 7), (1827, 7))"
      ]
     },
     "execution_count": 11,
     "metadata": {},
     "output_type": "execute_result"
    }
   ],
   "source": [
    "data[data['close'] == data['adj_close']].shape, data.shape"
   ]
  },
  {
   "cell_type": "code",
   "execution_count": 12,
   "metadata": {},
   "outputs": [],
   "source": [
    "# drop adj_close columns cause all the rows of columns ‘close’ and ‘adj_close’ have the same data\n",
    "data = data.drop(['adj_close'], axis=1)"
   ]
  },
  {
   "cell_type": "code",
   "execution_count": 13,
   "metadata": {},
   "outputs": [
    {
     "data": {
      "text/html": [
       "<div>\n",
       "<style scoped>\n",
       "    .dataframe tbody tr th:only-of-type {\n",
       "        vertical-align: middle;\n",
       "    }\n",
       "\n",
       "    .dataframe tbody tr th {\n",
       "        vertical-align: top;\n",
       "    }\n",
       "\n",
       "    .dataframe thead th {\n",
       "        text-align: right;\n",
       "    }\n",
       "</style>\n",
       "<table border=\"1\" class=\"dataframe\">\n",
       "  <thead>\n",
       "    <tr style=\"text-align: right;\">\n",
       "      <th></th>\n",
       "      <th>open</th>\n",
       "      <th>high</th>\n",
       "      <th>low</th>\n",
       "      <th>close</th>\n",
       "    </tr>\n",
       "  </thead>\n",
       "  <tbody>\n",
       "    <tr>\n",
       "      <th>open</th>\n",
       "      <td>1.000000</td>\n",
       "      <td>0.999159</td>\n",
       "      <td>0.998515</td>\n",
       "      <td>0.997997</td>\n",
       "    </tr>\n",
       "    <tr>\n",
       "      <th>high</th>\n",
       "      <td>0.999159</td>\n",
       "      <td>1.000000</td>\n",
       "      <td>0.998290</td>\n",
       "      <td>0.999096</td>\n",
       "    </tr>\n",
       "    <tr>\n",
       "      <th>low</th>\n",
       "      <td>0.998515</td>\n",
       "      <td>0.998290</td>\n",
       "      <td>1.000000</td>\n",
       "      <td>0.998940</td>\n",
       "    </tr>\n",
       "    <tr>\n",
       "      <th>close</th>\n",
       "      <td>0.997997</td>\n",
       "      <td>0.999096</td>\n",
       "      <td>0.998940</td>\n",
       "      <td>1.000000</td>\n",
       "    </tr>\n",
       "  </tbody>\n",
       "</table>\n",
       "</div>"
      ],
      "text/plain": [
       "           open      high       low     close\n",
       "open   1.000000  0.999159  0.998515  0.997997\n",
       "high   0.999159  1.000000  0.998290  0.999096\n",
       "low    0.998515  0.998290  1.000000  0.998940\n",
       "close  0.997997  0.999096  0.998940  1.000000"
      ]
     },
     "execution_count": 13,
     "metadata": {},
     "output_type": "execute_result"
    }
   ],
   "source": [
    "num_features = ['open', 'high', 'low', 'close']\n",
    "data[num_features].corr()"
   ]
  },
  {
   "cell_type": "code",
   "execution_count": 391,
   "metadata": {},
   "outputs": [
    {
     "data": {
      "image/png": "[encoded data removed]",
      "text/plain": [
       "<Figure size 2000x1000 with 4 Axes>"
      ]
     },
     "metadata": {},
     "output_type": "display_data"
    }
   ],
   "source": [
    "\n",
    "fig, axes = plt.subplots(nrows=2, ncols=2, figsize=(20, 10))\n",
    "for i, (col, ax) in enumerate(zip(num_features, axes.flatten())):\n",
    "    sns.distplot(data[col], ax=ax)\n",
    "\n",
    "plt.show()"
   ]
  },
  {
   "cell_type": "code",
   "execution_count": 15,
   "metadata": {},
   "outputs": [
    {
     "data": {
      "image/png": "[encoded data removed]",
      "text/plain": [
       "<Figure size 1000x1000 with 4 Axes>"
      ]
     },
     "metadata": {},
     "output_type": "display_data"
    }
   ],
   "source": [
    "fig, axes = plt.subplots(nrows=2, ncols=2, figsize=(10, 10))\n",
    "for i, (col, ax) in enumerate(zip(num_features, axes.flatten())):\n",
    "    sns.boxplot(data[col], ax=ax)\n",
    "\n",
    "plt.show()"
   ]
  },
  {
   "cell_type": "code",
   "execution_count": null,
   "metadata": {},
   "outputs": [],
   "source": []
  },
  {
   "cell_type": "markdown",
   "metadata": {},
   "source": [
    "### Prepare data for classification\n",
    "\n",
    "Attach a label to each movement:\n",
    "\n",
    "- 1 if the signal is that short term price will go up as compared to the long term.\n",
    "- 0 if the signal is that short term price will go down as compared to the long term.\n"
   ]
  },
  {
   "cell_type": "code",
   "execution_count": 263,
   "metadata": {},
   "outputs": [],
   "source": [
    "df = data.copy()\n",
    "df['date'] = pd.to_datetime(df.date, format='%Y-%m-%d')"
   ]
  },
  {
   "cell_type": "code",
   "execution_count": 264,
   "metadata": {},
   "outputs": [],
   "source": [
    "# Initialize the `signals` DataFrame with the `signal` column\n",
    "\n",
    "# Create short simple moving average over the short window\n",
    "df['short_mavg'] = df['close'].rolling(\n",
    "    window=10, min_periods=1, center=False).mean()\n",
    "\n",
    "# Create long simple moving average over the long window\n",
    "df['long_mavg'] = df['close'].rolling(\n",
    "    window=60, min_periods=1, center=False).mean()\n",
    "\n",
    "# Create signals\n",
    "df['signals'] = np.where(df['short_mavg'] > df['long_mavg'], 1, 0)"
   ]
  },
  {
   "cell_type": "code",
   "execution_count": 265,
   "metadata": {},
   "outputs": [
    {
     "data": {
      "text/html": [
       "<div>\n",
       "<style scoped>\n",
       "    .dataframe tbody tr th:only-of-type {\n",
       "        vertical-align: middle;\n",
       "    }\n",
       "\n",
       "    .dataframe tbody tr th {\n",
       "        vertical-align: top;\n",
       "    }\n",
       "\n",
       "    .dataframe thead th {\n",
       "        text-align: right;\n",
       "    }\n",
       "</style>\n",
       "<table border=\"1\" class=\"dataframe\">\n",
       "  <thead>\n",
       "    <tr style=\"text-align: right;\">\n",
       "      <th></th>\n",
       "      <th>date</th>\n",
       "      <th>open</th>\n",
       "      <th>high</th>\n",
       "      <th>low</th>\n",
       "      <th>close</th>\n",
       "      <th>volume</th>\n",
       "      <th>short_mavg</th>\n",
       "      <th>long_mavg</th>\n",
       "      <th>signals</th>\n",
       "    </tr>\n",
       "  </thead>\n",
       "  <tbody>\n",
       "    <tr>\n",
       "      <th>0</th>\n",
       "      <td>2018-10-31</td>\n",
       "      <td>6336.990234</td>\n",
       "      <td>6349.160156</td>\n",
       "      <td>6316.879883</td>\n",
       "      <td>6317.609863</td>\n",
       "      <td>4191240000</td>\n",
       "      <td>6317.609863</td>\n",
       "      <td>6317.609863</td>\n",
       "      <td>0</td>\n",
       "    </tr>\n",
       "    <tr>\n",
       "      <th>1</th>\n",
       "      <td>2018-11-01</td>\n",
       "      <td>6318.140137</td>\n",
       "      <td>6547.140137</td>\n",
       "      <td>6311.830078</td>\n",
       "      <td>6377.779785</td>\n",
       "      <td>3789400000</td>\n",
       "      <td>6347.694824</td>\n",
       "      <td>6347.694824</td>\n",
       "      <td>0</td>\n",
       "    </tr>\n",
       "    <tr>\n",
       "      <th>2</th>\n",
       "      <td>2018-11-02</td>\n",
       "      <td>6378.919922</td>\n",
       "      <td>6396.859863</td>\n",
       "      <td>6327.379883</td>\n",
       "      <td>6388.439941</td>\n",
       "      <td>4234870000</td>\n",
       "      <td>6361.276530</td>\n",
       "      <td>6361.276530</td>\n",
       "      <td>0</td>\n",
       "    </tr>\n",
       "    <tr>\n",
       "      <th>3</th>\n",
       "      <td>2018-11-03</td>\n",
       "      <td>6387.240234</td>\n",
       "      <td>6400.069824</td>\n",
       "      <td>6342.370117</td>\n",
       "      <td>6361.259766</td>\n",
       "      <td>3658640000</td>\n",
       "      <td>6361.272339</td>\n",
       "      <td>6361.272339</td>\n",
       "      <td>0</td>\n",
       "    </tr>\n",
       "    <tr>\n",
       "      <th>4</th>\n",
       "      <td>2018-11-04</td>\n",
       "      <td>6365.470215</td>\n",
       "      <td>6388.629883</td>\n",
       "      <td>6294.569824</td>\n",
       "      <td>6376.129883</td>\n",
       "      <td>4390020000</td>\n",
       "      <td>6364.243848</td>\n",
       "      <td>6364.243848</td>\n",
       "      <td>0</td>\n",
       "    </tr>\n",
       "  </tbody>\n",
       "</table>\n",
       "</div>"
      ],
      "text/plain": [
       "        date         open         high          low        close      volume  \\\n",
       "0 2018-10-31  6336.990234  6349.160156  6316.879883  6317.609863  4191240000   \n",
       "1 2018-11-01  6318.140137  6547.140137  6311.830078  6377.779785  3789400000   \n",
       "2 2018-11-02  6378.919922  6396.859863  6327.379883  6388.439941  4234870000   \n",
       "3 2018-11-03  6387.240234  6400.069824  6342.370117  6361.259766  3658640000   \n",
       "4 2018-11-04  6365.470215  6388.629883  6294.569824  6376.129883  4390020000   \n",
       "\n",
       "    short_mavg    long_mavg  signals  \n",
       "0  6317.609863  6317.609863        0  \n",
       "1  6347.694824  6347.694824        0  \n",
       "2  6361.276530  6361.276530        0  \n",
       "3  6361.272339  6361.272339        0  \n",
       "4  6364.243848  6364.243848        0  "
      ]
     },
     "execution_count": 265,
     "metadata": {},
     "output_type": "execute_result"
    }
   ],
   "source": [
    "df.head()"
   ]
  },
  {
   "cell_type": "code",
   "execution_count": 266,
   "metadata": {},
   "outputs": [
    {
     "data": {
      "text/html": [
       "<div>\n",
       "<style scoped>\n",
       "    .dataframe tbody tr th:only-of-type {\n",
       "        vertical-align: middle;\n",
       "    }\n",
       "\n",
       "    .dataframe tbody tr th {\n",
       "        vertical-align: top;\n",
       "    }\n",
       "\n",
       "    .dataframe thead th {\n",
       "        text-align: right;\n",
       "    }\n",
       "</style>\n",
       "<table border=\"1\" class=\"dataframe\">\n",
       "  <thead>\n",
       "    <tr style=\"text-align: right;\">\n",
       "      <th></th>\n",
       "      <th>date</th>\n",
       "      <th>open</th>\n",
       "      <th>high</th>\n",
       "      <th>low</th>\n",
       "      <th>close</th>\n",
       "      <th>volume</th>\n",
       "      <th>short_mavg</th>\n",
       "      <th>long_mavg</th>\n",
       "      <th>signals</th>\n",
       "    </tr>\n",
       "  </thead>\n",
       "  <tbody>\n",
       "    <tr>\n",
       "      <th>1822</th>\n",
       "      <td>2023-10-27</td>\n",
       "      <td>34156.500000</td>\n",
       "      <td>34238.210938</td>\n",
       "      <td>33416.886719</td>\n",
       "      <td>33909.800781</td>\n",
       "      <td>16418032871</td>\n",
       "      <td>31620.043750</td>\n",
       "      <td>27579.579557</td>\n",
       "      <td>1</td>\n",
       "    </tr>\n",
       "    <tr>\n",
       "      <th>1823</th>\n",
       "      <td>2023-10-28</td>\n",
       "      <td>33907.722656</td>\n",
       "      <td>34399.390625</td>\n",
       "      <td>33874.804688</td>\n",
       "      <td>34089.574219</td>\n",
       "      <td>10160330825</td>\n",
       "      <td>32196.166992</td>\n",
       "      <td>27685.615918</td>\n",
       "      <td>1</td>\n",
       "    </tr>\n",
       "    <tr>\n",
       "      <th>1824</th>\n",
       "      <td>2023-10-29</td>\n",
       "      <td>34089.371094</td>\n",
       "      <td>34743.261719</td>\n",
       "      <td>33947.566406</td>\n",
       "      <td>34538.480469</td>\n",
       "      <td>11160323986</td>\n",
       "      <td>32778.034375</td>\n",
       "      <td>27806.302832</td>\n",
       "      <td>1</td>\n",
       "    </tr>\n",
       "    <tr>\n",
       "      <th>1825</th>\n",
       "      <td>2023-10-30</td>\n",
       "      <td>34531.742188</td>\n",
       "      <td>34843.933594</td>\n",
       "      <td>34110.972656</td>\n",
       "      <td>34502.363281</td>\n",
       "      <td>17184860315</td>\n",
       "      <td>33259.975781</td>\n",
       "      <td>27949.151009</td>\n",
       "      <td>1</td>\n",
       "    </tr>\n",
       "    <tr>\n",
       "      <th>1826</th>\n",
       "      <td>2023-10-31</td>\n",
       "      <td>34500.078125</td>\n",
       "      <td>34598.324219</td>\n",
       "      <td>34113.550781</td>\n",
       "      <td>34440.511719</td>\n",
       "      <td>16038452224</td>\n",
       "      <td>33712.185742</td>\n",
       "      <td>28093.147461</td>\n",
       "      <td>1</td>\n",
       "    </tr>\n",
       "  </tbody>\n",
       "</table>\n",
       "</div>"
      ],
      "text/plain": [
       "           date          open          high           low         close  \\\n",
       "1822 2023-10-27  34156.500000  34238.210938  33416.886719  33909.800781   \n",
       "1823 2023-10-28  33907.722656  34399.390625  33874.804688  34089.574219   \n",
       "1824 2023-10-29  34089.371094  34743.261719  33947.566406  34538.480469   \n",
       "1825 2023-10-30  34531.742188  34843.933594  34110.972656  34502.363281   \n",
       "1826 2023-10-31  34500.078125  34598.324219  34113.550781  34440.511719   \n",
       "\n",
       "           volume    short_mavg     long_mavg  signals  \n",
       "1822  16418032871  31620.043750  27579.579557        1  \n",
       "1823  10160330825  32196.166992  27685.615918        1  \n",
       "1824  11160323986  32778.034375  27806.302832        1  \n",
       "1825  17184860315  33259.975781  27949.151009        1  \n",
       "1826  16038452224  33712.185742  28093.147461        1  "
      ]
     },
     "execution_count": 266,
     "metadata": {},
     "output_type": "execute_result"
    }
   ],
   "source": [
    "df.tail()"
   ]
  },
  {
   "cell_type": "code",
   "execution_count": 267,
   "metadata": {},
   "outputs": [
    {
     "data": {
      "text/plain": [
       "((919, 9), (908, 9))"
      ]
     },
     "execution_count": 267,
     "metadata": {},
     "output_type": "execute_result"
    }
   ],
   "source": [
    "df[df['signals'] == 1].shape, df[df['signals'] == 0].shape"
   ]
  },
  {
   "cell_type": "code",
   "execution_count": 268,
   "metadata": {},
   "outputs": [
    {
     "data": {
      "image/png": "[encoded data removed]",
      "text/plain": [
       "<Figure size 640x480 with 1 Axes>"
      ]
     },
     "metadata": {},
     "output_type": "display_data"
    }
   ],
   "source": [
    "plt.pie(df['signals'].value_counts().values,\n",
    "        labels=[0, 1], autopct='%1.1f%%')\n",
    "plt.show()"
   ]
  },
  {
   "cell_type": "markdown",
   "metadata": {},
   "source": [
    "### Feature Engineering\n"
   ]
  },
  {
   "cell_type": "markdown",
   "metadata": {},
   "source": [
    "Constructing a dataset that contains the predictors which will be used to make the predictions, and the output variable.\n",
    "\n",
    "The current Data of the bicoin consists of date, open, high, low, close and volume. Using this data we calculate the following technical indicators:\n",
    "\n",
    "- Moving Average : A moving average provides an indication of the trend of the price movement by cut down the amount of \"noise\" on a price chart.\n",
    "- Stochastic Oscillator %K and %D : A stochastic oscillator is a momentum indicator comparing a particular closing price of a security to a range of its prices over a certain period of time. %K and %D are slow and fast indicators.\n",
    "- Relative Strength Index(RSI) :It is a momentum indicator that measures the magnitude of recent price changes to evaluate overbought or oversold conditions in the price of a stock or other asset.\n",
    "- Rate Of Change(ROC): It is a momentum oscillator, which measures the percentage change between the current price and the n period past price.\n",
    "  Momentum (MOM) : It is the rate of acceleration of a security's price or volume – that is, the speed at which the price is changing.\n"
   ]
  },
  {
   "cell_type": "code",
   "execution_count": 269,
   "metadata": {},
   "outputs": [
    {
     "data": {
      "text/html": [
       "<div>\n",
       "<style scoped>\n",
       "    .dataframe tbody tr th:only-of-type {\n",
       "        vertical-align: middle;\n",
       "    }\n",
       "\n",
       "    .dataframe tbody tr th {\n",
       "        vertical-align: top;\n",
       "    }\n",
       "\n",
       "    .dataframe thead th {\n",
       "        text-align: right;\n",
       "    }\n",
       "</style>\n",
       "<table border=\"1\" class=\"dataframe\">\n",
       "  <thead>\n",
       "    <tr style=\"text-align: right;\">\n",
       "      <th></th>\n",
       "      <th>date</th>\n",
       "      <th>open</th>\n",
       "      <th>high</th>\n",
       "      <th>low</th>\n",
       "      <th>close</th>\n",
       "      <th>volume</th>\n",
       "      <th>short_mavg</th>\n",
       "      <th>long_mavg</th>\n",
       "      <th>signals</th>\n",
       "    </tr>\n",
       "  </thead>\n",
       "  <tbody>\n",
       "    <tr>\n",
       "      <th>0</th>\n",
       "      <td>2018-10-31</td>\n",
       "      <td>6336.990234</td>\n",
       "      <td>6349.160156</td>\n",
       "      <td>6316.879883</td>\n",
       "      <td>6317.609863</td>\n",
       "      <td>4191240000</td>\n",
       "      <td>6317.609863</td>\n",
       "      <td>6317.609863</td>\n",
       "      <td>0</td>\n",
       "    </tr>\n",
       "    <tr>\n",
       "      <th>1</th>\n",
       "      <td>2018-11-01</td>\n",
       "      <td>6318.140137</td>\n",
       "      <td>6547.140137</td>\n",
       "      <td>6311.830078</td>\n",
       "      <td>6377.779785</td>\n",
       "      <td>3789400000</td>\n",
       "      <td>6347.694824</td>\n",
       "      <td>6347.694824</td>\n",
       "      <td>0</td>\n",
       "    </tr>\n",
       "    <tr>\n",
       "      <th>2</th>\n",
       "      <td>2018-11-02</td>\n",
       "      <td>6378.919922</td>\n",
       "      <td>6396.859863</td>\n",
       "      <td>6327.379883</td>\n",
       "      <td>6388.439941</td>\n",
       "      <td>4234870000</td>\n",
       "      <td>6361.276530</td>\n",
       "      <td>6361.276530</td>\n",
       "      <td>0</td>\n",
       "    </tr>\n",
       "    <tr>\n",
       "      <th>3</th>\n",
       "      <td>2018-11-03</td>\n",
       "      <td>6387.240234</td>\n",
       "      <td>6400.069824</td>\n",
       "      <td>6342.370117</td>\n",
       "      <td>6361.259766</td>\n",
       "      <td>3658640000</td>\n",
       "      <td>6361.272339</td>\n",
       "      <td>6361.272339</td>\n",
       "      <td>0</td>\n",
       "    </tr>\n",
       "    <tr>\n",
       "      <th>4</th>\n",
       "      <td>2018-11-04</td>\n",
       "      <td>6365.470215</td>\n",
       "      <td>6388.629883</td>\n",
       "      <td>6294.569824</td>\n",
       "      <td>6376.129883</td>\n",
       "      <td>4390020000</td>\n",
       "      <td>6364.243848</td>\n",
       "      <td>6364.243848</td>\n",
       "      <td>0</td>\n",
       "    </tr>\n",
       "  </tbody>\n",
       "</table>\n",
       "</div>"
      ],
      "text/plain": [
       "        date         open         high          low        close      volume  \\\n",
       "0 2018-10-31  6336.990234  6349.160156  6316.879883  6317.609863  4191240000   \n",
       "1 2018-11-01  6318.140137  6547.140137  6311.830078  6377.779785  3789400000   \n",
       "2 2018-11-02  6378.919922  6396.859863  6327.379883  6388.439941  4234870000   \n",
       "3 2018-11-03  6387.240234  6400.069824  6342.370117  6361.259766  3658640000   \n",
       "4 2018-11-04  6365.470215  6388.629883  6294.569824  6376.129883  4390020000   \n",
       "\n",
       "    short_mavg    long_mavg  signals  \n",
       "0  6317.609863  6317.609863        0  \n",
       "1  6347.694824  6347.694824        0  \n",
       "2  6361.276530  6361.276530        0  \n",
       "3  6361.272339  6361.272339        0  \n",
       "4  6364.243848  6364.243848        0  "
      ]
     },
     "execution_count": 269,
     "metadata": {},
     "output_type": "execute_result"
    }
   ],
   "source": [
    "df.head()"
   ]
  },
  {
   "cell_type": "code",
   "execution_count": 270,
   "metadata": {},
   "outputs": [
    {
     "data": {
      "text/html": [
       "<div>\n",
       "<style scoped>\n",
       "    .dataframe tbody tr th:only-of-type {\n",
       "        vertical-align: middle;\n",
       "    }\n",
       "\n",
       "    .dataframe tbody tr th {\n",
       "        vertical-align: top;\n",
       "    }\n",
       "\n",
       "    .dataframe thead th {\n",
       "        text-align: right;\n",
       "    }\n",
       "</style>\n",
       "<table border=\"1\" class=\"dataframe\">\n",
       "  <thead>\n",
       "    <tr style=\"text-align: right;\">\n",
       "      <th></th>\n",
       "      <th>date</th>\n",
       "      <th>open</th>\n",
       "      <th>high</th>\n",
       "      <th>low</th>\n",
       "      <th>close</th>\n",
       "      <th>volume</th>\n",
       "      <th>short_mavg</th>\n",
       "      <th>long_mavg</th>\n",
       "      <th>signals</th>\n",
       "      <th>EMA7</th>\n",
       "      <th>EMA14</th>\n",
       "      <th>EMA30</th>\n",
       "    </tr>\n",
       "  </thead>\n",
       "  <tbody>\n",
       "    <tr>\n",
       "      <th>0</th>\n",
       "      <td>2018-10-31</td>\n",
       "      <td>6336.990234</td>\n",
       "      <td>6349.160156</td>\n",
       "      <td>6316.879883</td>\n",
       "      <td>6317.609863</td>\n",
       "      <td>4191240000</td>\n",
       "      <td>6317.609863</td>\n",
       "      <td>6317.609863</td>\n",
       "      <td>0</td>\n",
       "      <td>NaN</td>\n",
       "      <td>NaN</td>\n",
       "      <td>NaN</td>\n",
       "    </tr>\n",
       "    <tr>\n",
       "      <th>1</th>\n",
       "      <td>2018-11-01</td>\n",
       "      <td>6318.140137</td>\n",
       "      <td>6547.140137</td>\n",
       "      <td>6311.830078</td>\n",
       "      <td>6377.779785</td>\n",
       "      <td>3789400000</td>\n",
       "      <td>6347.694824</td>\n",
       "      <td>6347.694824</td>\n",
       "      <td>0</td>\n",
       "      <td>NaN</td>\n",
       "      <td>NaN</td>\n",
       "      <td>NaN</td>\n",
       "    </tr>\n",
       "    <tr>\n",
       "      <th>2</th>\n",
       "      <td>2018-11-02</td>\n",
       "      <td>6378.919922</td>\n",
       "      <td>6396.859863</td>\n",
       "      <td>6327.379883</td>\n",
       "      <td>6388.439941</td>\n",
       "      <td>4234870000</td>\n",
       "      <td>6361.276530</td>\n",
       "      <td>6361.276530</td>\n",
       "      <td>0</td>\n",
       "      <td>NaN</td>\n",
       "      <td>NaN</td>\n",
       "      <td>NaN</td>\n",
       "    </tr>\n",
       "    <tr>\n",
       "      <th>3</th>\n",
       "      <td>2018-11-03</td>\n",
       "      <td>6387.240234</td>\n",
       "      <td>6400.069824</td>\n",
       "      <td>6342.370117</td>\n",
       "      <td>6361.259766</td>\n",
       "      <td>3658640000</td>\n",
       "      <td>6361.272339</td>\n",
       "      <td>6361.272339</td>\n",
       "      <td>0</td>\n",
       "      <td>NaN</td>\n",
       "      <td>NaN</td>\n",
       "      <td>NaN</td>\n",
       "    </tr>\n",
       "    <tr>\n",
       "      <th>4</th>\n",
       "      <td>2018-11-04</td>\n",
       "      <td>6365.470215</td>\n",
       "      <td>6388.629883</td>\n",
       "      <td>6294.569824</td>\n",
       "      <td>6376.129883</td>\n",
       "      <td>4390020000</td>\n",
       "      <td>6364.243848</td>\n",
       "      <td>6364.243848</td>\n",
       "      <td>0</td>\n",
       "      <td>NaN</td>\n",
       "      <td>NaN</td>\n",
       "      <td>NaN</td>\n",
       "    </tr>\n",
       "  </tbody>\n",
       "</table>\n",
       "</div>"
      ],
      "text/plain": [
       "        date         open         high          low        close      volume  \\\n",
       "0 2018-10-31  6336.990234  6349.160156  6316.879883  6317.609863  4191240000   \n",
       "1 2018-11-01  6318.140137  6547.140137  6311.830078  6377.779785  3789400000   \n",
       "2 2018-11-02  6378.919922  6396.859863  6327.379883  6388.439941  4234870000   \n",
       "3 2018-11-03  6387.240234  6400.069824  6342.370117  6361.259766  3658640000   \n",
       "4 2018-11-04  6365.470215  6388.629883  6294.569824  6376.129883  4390020000   \n",
       "\n",
       "    short_mavg    long_mavg  signals  EMA7  EMA14  EMA30  \n",
       "0  6317.609863  6317.609863        0   NaN    NaN    NaN  \n",
       "1  6347.694824  6347.694824        0   NaN    NaN    NaN  \n",
       "2  6361.276530  6361.276530        0   NaN    NaN    NaN  \n",
       "3  6361.272339  6361.272339        0   NaN    NaN    NaN  \n",
       "4  6364.243848  6364.243848        0   NaN    NaN    NaN  "
      ]
     },
     "execution_count": 270,
     "metadata": {},
     "output_type": "execute_result"
    }
   ],
   "source": [
    "# calculation of exponential moving average\n",
    "def EMA(df, n):\n",
    "    EMA = pd.Series(df['close'].ewm(\n",
    "        span=n, min_periods=n).mean(), name='EMA_' + str(n))\n",
    "    return EMA\n",
    "\n",
    "\n",
    "df['EMA7'] = EMA(df, 7)\n",
    "df['EMA14'] = EMA(df, 14)\n",
    "df['EMA30'] = EMA(df, 30)\n",
    "df.head()"
   ]
  },
  {
   "cell_type": "code",
   "execution_count": 271,
   "metadata": {},
   "outputs": [
    {
     "data": {
      "text/html": [
       "<div>\n",
       "<style scoped>\n",
       "    .dataframe tbody tr th:only-of-type {\n",
       "        vertical-align: middle;\n",
       "    }\n",
       "\n",
       "    .dataframe tbody tr th {\n",
       "        vertical-align: top;\n",
       "    }\n",
       "\n",
       "    .dataframe thead th {\n",
       "        text-align: right;\n",
       "    }\n",
       "</style>\n",
       "<table border=\"1\" class=\"dataframe\">\n",
       "  <thead>\n",
       "    <tr style=\"text-align: right;\">\n",
       "      <th></th>\n",
       "      <th>date</th>\n",
       "      <th>open</th>\n",
       "      <th>high</th>\n",
       "      <th>low</th>\n",
       "      <th>close</th>\n",
       "      <th>volume</th>\n",
       "      <th>short_mavg</th>\n",
       "      <th>long_mavg</th>\n",
       "      <th>signals</th>\n",
       "      <th>EMA7</th>\n",
       "      <th>EMA14</th>\n",
       "      <th>EMA30</th>\n",
       "      <th>ROC7</th>\n",
       "      <th>ROC14</th>\n",
       "      <th>ROC30</th>\n",
       "    </tr>\n",
       "  </thead>\n",
       "  <tbody>\n",
       "    <tr>\n",
       "      <th>0</th>\n",
       "      <td>2018-10-31</td>\n",
       "      <td>6336.990234</td>\n",
       "      <td>6349.160156</td>\n",
       "      <td>6316.879883</td>\n",
       "      <td>6317.609863</td>\n",
       "      <td>4191240000</td>\n",
       "      <td>6317.609863</td>\n",
       "      <td>6317.609863</td>\n",
       "      <td>0</td>\n",
       "      <td>NaN</td>\n",
       "      <td>NaN</td>\n",
       "      <td>NaN</td>\n",
       "      <td>NaN</td>\n",
       "      <td>NaN</td>\n",
       "      <td>NaN</td>\n",
       "    </tr>\n",
       "    <tr>\n",
       "      <th>1</th>\n",
       "      <td>2018-11-01</td>\n",
       "      <td>6318.140137</td>\n",
       "      <td>6547.140137</td>\n",
       "      <td>6311.830078</td>\n",
       "      <td>6377.779785</td>\n",
       "      <td>3789400000</td>\n",
       "      <td>6347.694824</td>\n",
       "      <td>6347.694824</td>\n",
       "      <td>0</td>\n",
       "      <td>NaN</td>\n",
       "      <td>NaN</td>\n",
       "      <td>NaN</td>\n",
       "      <td>NaN</td>\n",
       "      <td>NaN</td>\n",
       "      <td>NaN</td>\n",
       "    </tr>\n",
       "    <tr>\n",
       "      <th>2</th>\n",
       "      <td>2018-11-02</td>\n",
       "      <td>6378.919922</td>\n",
       "      <td>6396.859863</td>\n",
       "      <td>6327.379883</td>\n",
       "      <td>6388.439941</td>\n",
       "      <td>4234870000</td>\n",
       "      <td>6361.276530</td>\n",
       "      <td>6361.276530</td>\n",
       "      <td>0</td>\n",
       "      <td>NaN</td>\n",
       "      <td>NaN</td>\n",
       "      <td>NaN</td>\n",
       "      <td>NaN</td>\n",
       "      <td>NaN</td>\n",
       "      <td>NaN</td>\n",
       "    </tr>\n",
       "    <tr>\n",
       "      <th>3</th>\n",
       "      <td>2018-11-03</td>\n",
       "      <td>6387.240234</td>\n",
       "      <td>6400.069824</td>\n",
       "      <td>6342.370117</td>\n",
       "      <td>6361.259766</td>\n",
       "      <td>3658640000</td>\n",
       "      <td>6361.272339</td>\n",
       "      <td>6361.272339</td>\n",
       "      <td>0</td>\n",
       "      <td>NaN</td>\n",
       "      <td>NaN</td>\n",
       "      <td>NaN</td>\n",
       "      <td>NaN</td>\n",
       "      <td>NaN</td>\n",
       "      <td>NaN</td>\n",
       "    </tr>\n",
       "    <tr>\n",
       "      <th>4</th>\n",
       "      <td>2018-11-04</td>\n",
       "      <td>6365.470215</td>\n",
       "      <td>6388.629883</td>\n",
       "      <td>6294.569824</td>\n",
       "      <td>6376.129883</td>\n",
       "      <td>4390020000</td>\n",
       "      <td>6364.243848</td>\n",
       "      <td>6364.243848</td>\n",
       "      <td>0</td>\n",
       "      <td>NaN</td>\n",
       "      <td>NaN</td>\n",
       "      <td>NaN</td>\n",
       "      <td>NaN</td>\n",
       "      <td>NaN</td>\n",
       "      <td>NaN</td>\n",
       "    </tr>\n",
       "  </tbody>\n",
       "</table>\n",
       "</div>"
      ],
      "text/plain": [
       "        date         open         high          low        close      volume  \\\n",
       "0 2018-10-31  6336.990234  6349.160156  6316.879883  6317.609863  4191240000   \n",
       "1 2018-11-01  6318.140137  6547.140137  6311.830078  6377.779785  3789400000   \n",
       "2 2018-11-02  6378.919922  6396.859863  6327.379883  6388.439941  4234870000   \n",
       "3 2018-11-03  6387.240234  6400.069824  6342.370117  6361.259766  3658640000   \n",
       "4 2018-11-04  6365.470215  6388.629883  6294.569824  6376.129883  4390020000   \n",
       "\n",
       "    short_mavg    long_mavg  signals  EMA7  EMA14  EMA30  ROC7  ROC14  ROC30  \n",
       "0  6317.609863  6317.609863        0   NaN    NaN    NaN   NaN    NaN    NaN  \n",
       "1  6347.694824  6347.694824        0   NaN    NaN    NaN   NaN    NaN    NaN  \n",
       "2  6361.276530  6361.276530        0   NaN    NaN    NaN   NaN    NaN    NaN  \n",
       "3  6361.272339  6361.272339        0   NaN    NaN    NaN   NaN    NaN    NaN  \n",
       "4  6364.243848  6364.243848        0   NaN    NaN    NaN   NaN    NaN    NaN  "
      ]
     },
     "execution_count": 271,
     "metadata": {},
     "output_type": "execute_result"
    }
   ],
   "source": [
    "# calculation of rate of change\n",
    "def ROC(df, n):\n",
    "    M = df.diff(n - 1)\n",
    "    N = df.shift(n - 1)\n",
    "    ROC = pd.Series(((M / N) * 100), name='ROC_' + str(n))\n",
    "    return ROC\n",
    "\n",
    "df['ROC7'] = ROC(df['close'], 7)\n",
    "df['ROC14'] = ROC(df['close'], 14)\n",
    "df['ROC30'] = ROC(df['close'], 30)\n",
    "df.head()"
   ]
  },
  {
   "cell_type": "code",
   "execution_count": 272,
   "metadata": {},
   "outputs": [
    {
     "data": {
      "text/html": [
       "<div>\n",
       "<style scoped>\n",
       "    .dataframe tbody tr th:only-of-type {\n",
       "        vertical-align: middle;\n",
       "    }\n",
       "\n",
       "    .dataframe tbody tr th {\n",
       "        vertical-align: top;\n",
       "    }\n",
       "\n",
       "    .dataframe thead th {\n",
       "        text-align: right;\n",
       "    }\n",
       "</style>\n",
       "<table border=\"1\" class=\"dataframe\">\n",
       "  <thead>\n",
       "    <tr style=\"text-align: right;\">\n",
       "      <th></th>\n",
       "      <th>date</th>\n",
       "      <th>open</th>\n",
       "      <th>high</th>\n",
       "      <th>low</th>\n",
       "      <th>close</th>\n",
       "      <th>volume</th>\n",
       "      <th>short_mavg</th>\n",
       "      <th>long_mavg</th>\n",
       "      <th>signals</th>\n",
       "      <th>EMA7</th>\n",
       "      <th>EMA14</th>\n",
       "      <th>EMA30</th>\n",
       "      <th>ROC7</th>\n",
       "      <th>ROC14</th>\n",
       "      <th>ROC30</th>\n",
       "      <th>MOM7</th>\n",
       "      <th>MOM14</th>\n",
       "      <th>MOM30</th>\n",
       "    </tr>\n",
       "  </thead>\n",
       "  <tbody>\n",
       "    <tr>\n",
       "      <th>0</th>\n",
       "      <td>2018-10-31</td>\n",
       "      <td>6336.990234</td>\n",
       "      <td>6349.160156</td>\n",
       "      <td>6316.879883</td>\n",
       "      <td>6317.609863</td>\n",
       "      <td>4191240000</td>\n",
       "      <td>6317.609863</td>\n",
       "      <td>6317.609863</td>\n",
       "      <td>0</td>\n",
       "      <td>NaN</td>\n",
       "      <td>NaN</td>\n",
       "      <td>NaN</td>\n",
       "      <td>NaN</td>\n",
       "      <td>NaN</td>\n",
       "      <td>NaN</td>\n",
       "      <td>NaN</td>\n",
       "      <td>NaN</td>\n",
       "      <td>NaN</td>\n",
       "    </tr>\n",
       "    <tr>\n",
       "      <th>1</th>\n",
       "      <td>2018-11-01</td>\n",
       "      <td>6318.140137</td>\n",
       "      <td>6547.140137</td>\n",
       "      <td>6311.830078</td>\n",
       "      <td>6377.779785</td>\n",
       "      <td>3789400000</td>\n",
       "      <td>6347.694824</td>\n",
       "      <td>6347.694824</td>\n",
       "      <td>0</td>\n",
       "      <td>NaN</td>\n",
       "      <td>NaN</td>\n",
       "      <td>NaN</td>\n",
       "      <td>NaN</td>\n",
       "      <td>NaN</td>\n",
       "      <td>NaN</td>\n",
       "      <td>NaN</td>\n",
       "      <td>NaN</td>\n",
       "      <td>NaN</td>\n",
       "    </tr>\n",
       "    <tr>\n",
       "      <th>2</th>\n",
       "      <td>2018-11-02</td>\n",
       "      <td>6378.919922</td>\n",
       "      <td>6396.859863</td>\n",
       "      <td>6327.379883</td>\n",
       "      <td>6388.439941</td>\n",
       "      <td>4234870000</td>\n",
       "      <td>6361.276530</td>\n",
       "      <td>6361.276530</td>\n",
       "      <td>0</td>\n",
       "      <td>NaN</td>\n",
       "      <td>NaN</td>\n",
       "      <td>NaN</td>\n",
       "      <td>NaN</td>\n",
       "      <td>NaN</td>\n",
       "      <td>NaN</td>\n",
       "      <td>NaN</td>\n",
       "      <td>NaN</td>\n",
       "      <td>NaN</td>\n",
       "    </tr>\n",
       "    <tr>\n",
       "      <th>3</th>\n",
       "      <td>2018-11-03</td>\n",
       "      <td>6387.240234</td>\n",
       "      <td>6400.069824</td>\n",
       "      <td>6342.370117</td>\n",
       "      <td>6361.259766</td>\n",
       "      <td>3658640000</td>\n",
       "      <td>6361.272339</td>\n",
       "      <td>6361.272339</td>\n",
       "      <td>0</td>\n",
       "      <td>NaN</td>\n",
       "      <td>NaN</td>\n",
       "      <td>NaN</td>\n",
       "      <td>NaN</td>\n",
       "      <td>NaN</td>\n",
       "      <td>NaN</td>\n",
       "      <td>NaN</td>\n",
       "      <td>NaN</td>\n",
       "      <td>NaN</td>\n",
       "    </tr>\n",
       "    <tr>\n",
       "      <th>4</th>\n",
       "      <td>2018-11-04</td>\n",
       "      <td>6365.470215</td>\n",
       "      <td>6388.629883</td>\n",
       "      <td>6294.569824</td>\n",
       "      <td>6376.129883</td>\n",
       "      <td>4390020000</td>\n",
       "      <td>6364.243848</td>\n",
       "      <td>6364.243848</td>\n",
       "      <td>0</td>\n",
       "      <td>NaN</td>\n",
       "      <td>NaN</td>\n",
       "      <td>NaN</td>\n",
       "      <td>NaN</td>\n",
       "      <td>NaN</td>\n",
       "      <td>NaN</td>\n",
       "      <td>NaN</td>\n",
       "      <td>NaN</td>\n",
       "      <td>NaN</td>\n",
       "    </tr>\n",
       "  </tbody>\n",
       "</table>\n",
       "</div>"
      ],
      "text/plain": [
       "        date         open         high          low        close      volume  \\\n",
       "0 2018-10-31  6336.990234  6349.160156  6316.879883  6317.609863  4191240000   \n",
       "1 2018-11-01  6318.140137  6547.140137  6311.830078  6377.779785  3789400000   \n",
       "2 2018-11-02  6378.919922  6396.859863  6327.379883  6388.439941  4234870000   \n",
       "3 2018-11-03  6387.240234  6400.069824  6342.370117  6361.259766  3658640000   \n",
       "4 2018-11-04  6365.470215  6388.629883  6294.569824  6376.129883  4390020000   \n",
       "\n",
       "    short_mavg    long_mavg  signals  EMA7  EMA14  EMA30  ROC7  ROC14  ROC30  \\\n",
       "0  6317.609863  6317.609863        0   NaN    NaN    NaN   NaN    NaN    NaN   \n",
       "1  6347.694824  6347.694824        0   NaN    NaN    NaN   NaN    NaN    NaN   \n",
       "2  6361.276530  6361.276530        0   NaN    NaN    NaN   NaN    NaN    NaN   \n",
       "3  6361.272339  6361.272339        0   NaN    NaN    NaN   NaN    NaN    NaN   \n",
       "4  6364.243848  6364.243848        0   NaN    NaN    NaN   NaN    NaN    NaN   \n",
       "\n",
       "   MOM7  MOM14  MOM30  \n",
       "0   NaN    NaN    NaN  \n",
       "1   NaN    NaN    NaN  \n",
       "2   NaN    NaN    NaN  \n",
       "3   NaN    NaN    NaN  \n",
       "4   NaN    NaN    NaN  "
      ]
     },
     "execution_count": 272,
     "metadata": {},
     "output_type": "execute_result"
    }
   ],
   "source": [
    "# Calculation of price momentum\n",
    "def MOM(df, n):\n",
    "    MOM = pd.Series(df.diff(n), name='Momentum_' + str(n))\n",
    "    return MOM\n",
    "\n",
    "df['MOM7'] = MOM(df['close'], 7)\n",
    "df['MOM14'] = MOM(df['close'], 14)\n",
    "df['MOM30'] = MOM(df['close'], 30)\n",
    "df.head()"
   ]
  },
  {
   "cell_type": "code",
   "execution_count": 273,
   "metadata": {},
   "outputs": [
    {
     "data": {
      "text/html": [
       "<div>\n",
       "<style scoped>\n",
       "    .dataframe tbody tr th:only-of-type {\n",
       "        vertical-align: middle;\n",
       "    }\n",
       "\n",
       "    .dataframe tbody tr th {\n",
       "        vertical-align: top;\n",
       "    }\n",
       "\n",
       "    .dataframe thead th {\n",
       "        text-align: right;\n",
       "    }\n",
       "</style>\n",
       "<table border=\"1\" class=\"dataframe\">\n",
       "  <thead>\n",
       "    <tr style=\"text-align: right;\">\n",
       "      <th></th>\n",
       "      <th>date</th>\n",
       "      <th>open</th>\n",
       "      <th>high</th>\n",
       "      <th>low</th>\n",
       "      <th>close</th>\n",
       "      <th>volume</th>\n",
       "      <th>short_mavg</th>\n",
       "      <th>long_mavg</th>\n",
       "      <th>signals</th>\n",
       "      <th>EMA7</th>\n",
       "      <th>...</th>\n",
       "      <th>EMA30</th>\n",
       "      <th>ROC7</th>\n",
       "      <th>ROC14</th>\n",
       "      <th>ROC30</th>\n",
       "      <th>MOM7</th>\n",
       "      <th>MOM14</th>\n",
       "      <th>MOM30</th>\n",
       "      <th>RSI7</th>\n",
       "      <th>RSI14</th>\n",
       "      <th>RSI30</th>\n",
       "    </tr>\n",
       "  </thead>\n",
       "  <tbody>\n",
       "    <tr>\n",
       "      <th>0</th>\n",
       "      <td>2018-10-31</td>\n",
       "      <td>6336.990234</td>\n",
       "      <td>6349.160156</td>\n",
       "      <td>6316.879883</td>\n",
       "      <td>6317.609863</td>\n",
       "      <td>4191240000</td>\n",
       "      <td>6317.609863</td>\n",
       "      <td>6317.609863</td>\n",
       "      <td>0</td>\n",
       "      <td>NaN</td>\n",
       "      <td>...</td>\n",
       "      <td>NaN</td>\n",
       "      <td>NaN</td>\n",
       "      <td>NaN</td>\n",
       "      <td>NaN</td>\n",
       "      <td>NaN</td>\n",
       "      <td>NaN</td>\n",
       "      <td>NaN</td>\n",
       "      <td>NaN</td>\n",
       "      <td>NaN</td>\n",
       "      <td>NaN</td>\n",
       "    </tr>\n",
       "    <tr>\n",
       "      <th>1</th>\n",
       "      <td>2018-11-01</td>\n",
       "      <td>6318.140137</td>\n",
       "      <td>6547.140137</td>\n",
       "      <td>6311.830078</td>\n",
       "      <td>6377.779785</td>\n",
       "      <td>3789400000</td>\n",
       "      <td>6347.694824</td>\n",
       "      <td>6347.694824</td>\n",
       "      <td>0</td>\n",
       "      <td>NaN</td>\n",
       "      <td>...</td>\n",
       "      <td>NaN</td>\n",
       "      <td>NaN</td>\n",
       "      <td>NaN</td>\n",
       "      <td>NaN</td>\n",
       "      <td>NaN</td>\n",
       "      <td>NaN</td>\n",
       "      <td>NaN</td>\n",
       "      <td>NaN</td>\n",
       "      <td>NaN</td>\n",
       "      <td>NaN</td>\n",
       "    </tr>\n",
       "    <tr>\n",
       "      <th>2</th>\n",
       "      <td>2018-11-02</td>\n",
       "      <td>6378.919922</td>\n",
       "      <td>6396.859863</td>\n",
       "      <td>6327.379883</td>\n",
       "      <td>6388.439941</td>\n",
       "      <td>4234870000</td>\n",
       "      <td>6361.276530</td>\n",
       "      <td>6361.276530</td>\n",
       "      <td>0</td>\n",
       "      <td>NaN</td>\n",
       "      <td>...</td>\n",
       "      <td>NaN</td>\n",
       "      <td>NaN</td>\n",
       "      <td>NaN</td>\n",
       "      <td>NaN</td>\n",
       "      <td>NaN</td>\n",
       "      <td>NaN</td>\n",
       "      <td>NaN</td>\n",
       "      <td>NaN</td>\n",
       "      <td>NaN</td>\n",
       "      <td>NaN</td>\n",
       "    </tr>\n",
       "    <tr>\n",
       "      <th>3</th>\n",
       "      <td>2018-11-03</td>\n",
       "      <td>6387.240234</td>\n",
       "      <td>6400.069824</td>\n",
       "      <td>6342.370117</td>\n",
       "      <td>6361.259766</td>\n",
       "      <td>3658640000</td>\n",
       "      <td>6361.272339</td>\n",
       "      <td>6361.272339</td>\n",
       "      <td>0</td>\n",
       "      <td>NaN</td>\n",
       "      <td>...</td>\n",
       "      <td>NaN</td>\n",
       "      <td>NaN</td>\n",
       "      <td>NaN</td>\n",
       "      <td>NaN</td>\n",
       "      <td>NaN</td>\n",
       "      <td>NaN</td>\n",
       "      <td>NaN</td>\n",
       "      <td>NaN</td>\n",
       "      <td>NaN</td>\n",
       "      <td>NaN</td>\n",
       "    </tr>\n",
       "    <tr>\n",
       "      <th>4</th>\n",
       "      <td>2018-11-04</td>\n",
       "      <td>6365.470215</td>\n",
       "      <td>6388.629883</td>\n",
       "      <td>6294.569824</td>\n",
       "      <td>6376.129883</td>\n",
       "      <td>4390020000</td>\n",
       "      <td>6364.243848</td>\n",
       "      <td>6364.243848</td>\n",
       "      <td>0</td>\n",
       "      <td>NaN</td>\n",
       "      <td>...</td>\n",
       "      <td>NaN</td>\n",
       "      <td>NaN</td>\n",
       "      <td>NaN</td>\n",
       "      <td>NaN</td>\n",
       "      <td>NaN</td>\n",
       "      <td>NaN</td>\n",
       "      <td>NaN</td>\n",
       "      <td>NaN</td>\n",
       "      <td>NaN</td>\n",
       "      <td>NaN</td>\n",
       "    </tr>\n",
       "  </tbody>\n",
       "</table>\n",
       "<p>5 rows × 21 columns</p>\n",
       "</div>"
      ],
      "text/plain": [
       "        date         open         high          low        close      volume  \\\n",
       "0 2018-10-31  6336.990234  6349.160156  6316.879883  6317.609863  4191240000   \n",
       "1 2018-11-01  6318.140137  6547.140137  6311.830078  6377.779785  3789400000   \n",
       "2 2018-11-02  6378.919922  6396.859863  6327.379883  6388.439941  4234870000   \n",
       "3 2018-11-03  6387.240234  6400.069824  6342.370117  6361.259766  3658640000   \n",
       "4 2018-11-04  6365.470215  6388.629883  6294.569824  6376.129883  4390020000   \n",
       "\n",
       "    short_mavg    long_mavg  signals  EMA7  ...  EMA30  ROC7  ROC14  ROC30  \\\n",
       "0  6317.609863  6317.609863        0   NaN  ...    NaN   NaN    NaN    NaN   \n",
       "1  6347.694824  6347.694824        0   NaN  ...    NaN   NaN    NaN    NaN   \n",
       "2  6361.276530  6361.276530        0   NaN  ...    NaN   NaN    NaN    NaN   \n",
       "3  6361.272339  6361.272339        0   NaN  ...    NaN   NaN    NaN    NaN   \n",
       "4  6364.243848  6364.243848        0   NaN  ...    NaN   NaN    NaN    NaN   \n",
       "\n",
       "   MOM7  MOM14  MOM30  RSI7  RSI14  RSI30  \n",
       "0   NaN    NaN    NaN   NaN    NaN    NaN  \n",
       "1   NaN    NaN    NaN   NaN    NaN    NaN  \n",
       "2   NaN    NaN    NaN   NaN    NaN    NaN  \n",
       "3   NaN    NaN    NaN   NaN    NaN    NaN  \n",
       "4   NaN    NaN    NaN   NaN    NaN    NaN  \n",
       "\n",
       "[5 rows x 21 columns]"
      ]
     },
     "execution_count": 273,
     "metadata": {},
     "output_type": "execute_result"
    }
   ],
   "source": [
    "# calculation of relative strength index\n",
    "def RSI(series, period):\n",
    "    delta = series.diff().dropna()\n",
    "    u = delta * 0\n",
    "    d = u.copy()\n",
    "    u[delta > 0] = delta[delta > 0]\n",
    "    d[delta < 0] = -delta[delta < 0]\n",
    "    # first value is sum of avg gains\n",
    "    u[u.index[period-1]] = np.mean(u[:period])\n",
    "    u = u.drop(u.index[:(period-1)])\n",
    "    # first value is sum of avg losses\n",
    "    d[d.index[period-1]] = np.mean(d[:period])\n",
    "    d = d.drop(d.index[:(period-1)])\n",
    "    rs = u.ewm(com=period-1, adjust=False).mean() / \\\n",
    "        d.ewm(com=period-1, adjust=False).mean()\n",
    "    return 100 - 100 / (1 + rs)\n",
    "\n",
    "\n",
    "df['RSI7'] = RSI(df['close'], 7)\n",
    "df['RSI14'] = RSI(df['close'], 14)\n",
    "df['RSI30'] = RSI(df['close'], 30)\n",
    "df.head()"
   ]
  },
  {
   "cell_type": "code",
   "execution_count": 274,
   "metadata": {},
   "outputs": [
    {
     "data": {
      "text/html": [
       "<div>\n",
       "<style scoped>\n",
       "    .dataframe tbody tr th:only-of-type {\n",
       "        vertical-align: middle;\n",
       "    }\n",
       "\n",
       "    .dataframe tbody tr th {\n",
       "        vertical-align: top;\n",
       "    }\n",
       "\n",
       "    .dataframe thead th {\n",
       "        text-align: right;\n",
       "    }\n",
       "</style>\n",
       "<table border=\"1\" class=\"dataframe\">\n",
       "  <thead>\n",
       "    <tr style=\"text-align: right;\">\n",
       "      <th></th>\n",
       "      <th>date</th>\n",
       "      <th>open</th>\n",
       "      <th>high</th>\n",
       "      <th>low</th>\n",
       "      <th>close</th>\n",
       "      <th>volume</th>\n",
       "      <th>short_mavg</th>\n",
       "      <th>long_mavg</th>\n",
       "      <th>signals</th>\n",
       "      <th>EMA7</th>\n",
       "      <th>...</th>\n",
       "      <th>MOM30</th>\n",
       "      <th>RSI7</th>\n",
       "      <th>RSI14</th>\n",
       "      <th>RSI30</th>\n",
       "      <th>%K7</th>\n",
       "      <th>%D7</th>\n",
       "      <th>%K14</th>\n",
       "      <th>%D14</th>\n",
       "      <th>%K30</th>\n",
       "      <th>%D30</th>\n",
       "    </tr>\n",
       "  </thead>\n",
       "  <tbody>\n",
       "    <tr>\n",
       "      <th>0</th>\n",
       "      <td>2018-10-31</td>\n",
       "      <td>6336.990234</td>\n",
       "      <td>6349.160156</td>\n",
       "      <td>6316.879883</td>\n",
       "      <td>6317.609863</td>\n",
       "      <td>4191240000</td>\n",
       "      <td>6317.609863</td>\n",
       "      <td>6317.609863</td>\n",
       "      <td>0</td>\n",
       "      <td>NaN</td>\n",
       "      <td>...</td>\n",
       "      <td>NaN</td>\n",
       "      <td>NaN</td>\n",
       "      <td>NaN</td>\n",
       "      <td>NaN</td>\n",
       "      <td>NaN</td>\n",
       "      <td>NaN</td>\n",
       "      <td>NaN</td>\n",
       "      <td>NaN</td>\n",
       "      <td>NaN</td>\n",
       "      <td>NaN</td>\n",
       "    </tr>\n",
       "    <tr>\n",
       "      <th>1</th>\n",
       "      <td>2018-11-01</td>\n",
       "      <td>6318.140137</td>\n",
       "      <td>6547.140137</td>\n",
       "      <td>6311.830078</td>\n",
       "      <td>6377.779785</td>\n",
       "      <td>3789400000</td>\n",
       "      <td>6347.694824</td>\n",
       "      <td>6347.694824</td>\n",
       "      <td>0</td>\n",
       "      <td>NaN</td>\n",
       "      <td>...</td>\n",
       "      <td>NaN</td>\n",
       "      <td>NaN</td>\n",
       "      <td>NaN</td>\n",
       "      <td>NaN</td>\n",
       "      <td>NaN</td>\n",
       "      <td>NaN</td>\n",
       "      <td>NaN</td>\n",
       "      <td>NaN</td>\n",
       "      <td>NaN</td>\n",
       "      <td>NaN</td>\n",
       "    </tr>\n",
       "    <tr>\n",
       "      <th>2</th>\n",
       "      <td>2018-11-02</td>\n",
       "      <td>6378.919922</td>\n",
       "      <td>6396.859863</td>\n",
       "      <td>6327.379883</td>\n",
       "      <td>6388.439941</td>\n",
       "      <td>4234870000</td>\n",
       "      <td>6361.276530</td>\n",
       "      <td>6361.276530</td>\n",
       "      <td>0</td>\n",
       "      <td>NaN</td>\n",
       "      <td>...</td>\n",
       "      <td>NaN</td>\n",
       "      <td>NaN</td>\n",
       "      <td>NaN</td>\n",
       "      <td>NaN</td>\n",
       "      <td>NaN</td>\n",
       "      <td>NaN</td>\n",
       "      <td>NaN</td>\n",
       "      <td>NaN</td>\n",
       "      <td>NaN</td>\n",
       "      <td>NaN</td>\n",
       "    </tr>\n",
       "    <tr>\n",
       "      <th>3</th>\n",
       "      <td>2018-11-03</td>\n",
       "      <td>6387.240234</td>\n",
       "      <td>6400.069824</td>\n",
       "      <td>6342.370117</td>\n",
       "      <td>6361.259766</td>\n",
       "      <td>3658640000</td>\n",
       "      <td>6361.272339</td>\n",
       "      <td>6361.272339</td>\n",
       "      <td>0</td>\n",
       "      <td>NaN</td>\n",
       "      <td>...</td>\n",
       "      <td>NaN</td>\n",
       "      <td>NaN</td>\n",
       "      <td>NaN</td>\n",
       "      <td>NaN</td>\n",
       "      <td>NaN</td>\n",
       "      <td>NaN</td>\n",
       "      <td>NaN</td>\n",
       "      <td>NaN</td>\n",
       "      <td>NaN</td>\n",
       "      <td>NaN</td>\n",
       "    </tr>\n",
       "    <tr>\n",
       "      <th>4</th>\n",
       "      <td>2018-11-04</td>\n",
       "      <td>6365.470215</td>\n",
       "      <td>6388.629883</td>\n",
       "      <td>6294.569824</td>\n",
       "      <td>6376.129883</td>\n",
       "      <td>4390020000</td>\n",
       "      <td>6364.243848</td>\n",
       "      <td>6364.243848</td>\n",
       "      <td>0</td>\n",
       "      <td>NaN</td>\n",
       "      <td>...</td>\n",
       "      <td>NaN</td>\n",
       "      <td>NaN</td>\n",
       "      <td>NaN</td>\n",
       "      <td>NaN</td>\n",
       "      <td>NaN</td>\n",
       "      <td>NaN</td>\n",
       "      <td>NaN</td>\n",
       "      <td>NaN</td>\n",
       "      <td>NaN</td>\n",
       "      <td>NaN</td>\n",
       "    </tr>\n",
       "  </tbody>\n",
       "</table>\n",
       "<p>5 rows × 27 columns</p>\n",
       "</div>"
      ],
      "text/plain": [
       "        date         open         high          low        close      volume  \\\n",
       "0 2018-10-31  6336.990234  6349.160156  6316.879883  6317.609863  4191240000   \n",
       "1 2018-11-01  6318.140137  6547.140137  6311.830078  6377.779785  3789400000   \n",
       "2 2018-11-02  6378.919922  6396.859863  6327.379883  6388.439941  4234870000   \n",
       "3 2018-11-03  6387.240234  6400.069824  6342.370117  6361.259766  3658640000   \n",
       "4 2018-11-04  6365.470215  6388.629883  6294.569824  6376.129883  4390020000   \n",
       "\n",
       "    short_mavg    long_mavg  signals  EMA7  ...  MOM30  RSI7  RSI14  RSI30  \\\n",
       "0  6317.609863  6317.609863        0   NaN  ...    NaN   NaN    NaN    NaN   \n",
       "1  6347.694824  6347.694824        0   NaN  ...    NaN   NaN    NaN    NaN   \n",
       "2  6361.276530  6361.276530        0   NaN  ...    NaN   NaN    NaN    NaN   \n",
       "3  6361.272339  6361.272339        0   NaN  ...    NaN   NaN    NaN    NaN   \n",
       "4  6364.243848  6364.243848        0   NaN  ...    NaN   NaN    NaN    NaN   \n",
       "\n",
       "   %K7  %D7  %K14  %D14  %K30  %D30  \n",
       "0  NaN  NaN   NaN   NaN   NaN   NaN  \n",
       "1  NaN  NaN   NaN   NaN   NaN   NaN  \n",
       "2  NaN  NaN   NaN   NaN   NaN   NaN  \n",
       "3  NaN  NaN   NaN   NaN   NaN   NaN  \n",
       "4  NaN  NaN   NaN   NaN   NaN   NaN  \n",
       "\n",
       "[5 rows x 27 columns]"
      ]
     },
     "execution_count": 274,
     "metadata": {},
     "output_type": "execute_result"
    }
   ],
   "source": [
    "# calculation of stochastic osillator.\n",
    "def STOK(close, low, high, n):\n",
    "    STOK = ((close - low.rolling(n).min()) /\n",
    "            (high.rolling(n).max() - low.rolling(n).min())) * 100\n",
    "    return STOK\n",
    "\n",
    "\n",
    "def STOD(close, low, high, n):\n",
    "    STOK = ((close - low.rolling(n).min()) /\n",
    "            (high.rolling(n).max() - low.rolling(n).min())) * 100\n",
    "    STOD = STOK.rolling(3).mean()\n",
    "    return STOD\n",
    "\n",
    "\n",
    "df['%K7'] = STOK(df['close'], df['low'], df['high'], 7)\n",
    "df['%D7'] = STOD(df['close'], df['low'], df['high'], 7)\n",
    "\n",
    "df['%K14'] = STOK(df['close'], df['low'], df['high'], 14)\n",
    "df['%D14'] = STOD(df['close'], df['low'], df['high'], 14)\n",
    "\n",
    "df['%K30'] = STOK(df['close'], df['low'], df['high'], 30)\n",
    "df['%D30'] = STOD(df['close'], df['low'], df['high'], 30)\n",
    "df.head()"
   ]
  },
  {
   "cell_type": "code",
   "execution_count": 275,
   "metadata": {},
   "outputs": [
    {
     "data": {
      "text/plain": [
       "date           0\n",
       "open           0\n",
       "high           0\n",
       "low            0\n",
       "close          0\n",
       "volume         0\n",
       "short_mavg     0\n",
       "long_mavg      0\n",
       "signals        0\n",
       "EMA7           6\n",
       "EMA14         13\n",
       "EMA30         29\n",
       "ROC7           6\n",
       "ROC14         13\n",
       "ROC30         29\n",
       "MOM7           7\n",
       "MOM14         14\n",
       "MOM30         30\n",
       "RSI7           7\n",
       "RSI14         14\n",
       "RSI30         30\n",
       "%K7            6\n",
       "%D7            8\n",
       "%K14          13\n",
       "%D14          15\n",
       "%K30          29\n",
       "%D30          31\n",
       "dtype: int64"
      ]
     },
     "execution_count": 275,
     "metadata": {},
     "output_type": "execute_result"
    }
   ],
   "source": [
    "df.isnull().sum()"
   ]
  },
  {
   "cell_type": "code",
   "execution_count": 276,
   "metadata": {},
   "outputs": [
    {
     "data": {
      "text/plain": [
       "(1796, 27)"
      ]
     },
     "execution_count": 276,
     "metadata": {},
     "output_type": "execute_result"
    }
   ],
   "source": [
    "df = df.dropna(axis=0)\n",
    "df.shape"
   ]
  },
  {
   "cell_type": "code",
   "execution_count": 279,
   "metadata": {},
   "outputs": [
    {
     "data": {
      "text/html": [
       "<div>\n",
       "<style scoped>\n",
       "    .dataframe tbody tr th:only-of-type {\n",
       "        vertical-align: middle;\n",
       "    }\n",
       "\n",
       "    .dataframe tbody tr th {\n",
       "        vertical-align: top;\n",
       "    }\n",
       "\n",
       "    .dataframe thead th {\n",
       "        text-align: right;\n",
       "    }\n",
       "</style>\n",
       "<table border=\"1\" class=\"dataframe\">\n",
       "  <thead>\n",
       "    <tr style=\"text-align: right;\">\n",
       "      <th></th>\n",
       "      <th>date</th>\n",
       "      <th>open</th>\n",
       "      <th>high</th>\n",
       "      <th>low</th>\n",
       "      <th>close</th>\n",
       "      <th>volume</th>\n",
       "      <th>short_mavg</th>\n",
       "      <th>long_mavg</th>\n",
       "      <th>signals</th>\n",
       "      <th>EMA7</th>\n",
       "      <th>...</th>\n",
       "      <th>MOM30</th>\n",
       "      <th>RSI7</th>\n",
       "      <th>RSI14</th>\n",
       "      <th>RSI30</th>\n",
       "      <th>%K7</th>\n",
       "      <th>%D7</th>\n",
       "      <th>%K14</th>\n",
       "      <th>%D14</th>\n",
       "      <th>%K30</th>\n",
       "      <th>%D30</th>\n",
       "    </tr>\n",
       "  </thead>\n",
       "  <tbody>\n",
       "    <tr>\n",
       "      <th>0</th>\n",
       "      <td>2018-12-01</td>\n",
       "      <td>4024.464355</td>\n",
       "      <td>4309.377441</td>\n",
       "      <td>3969.710693</td>\n",
       "      <td>4214.671875</td>\n",
       "      <td>5375314093</td>\n",
       "      <td>4097.183667</td>\n",
       "      <td>5395.618340</td>\n",
       "      <td>0</td>\n",
       "      <td>4170.663233</td>\n",
       "      <td>...</td>\n",
       "      <td>-2163.107910</td>\n",
       "      <td>42.674729</td>\n",
       "      <td>34.694533</td>\n",
       "      <td>27.852213</td>\n",
       "      <td>76.043707</td>\n",
       "      <td>70.676188</td>\n",
       "      <td>30.437353</td>\n",
       "      <td>28.272062</td>\n",
       "      <td>21.219770</td>\n",
       "      <td>19.723039</td>\n",
       "    </tr>\n",
       "    <tr>\n",
       "      <th>1</th>\n",
       "      <td>2018-12-02</td>\n",
       "      <td>4200.733398</td>\n",
       "      <td>4301.519531</td>\n",
       "      <td>4110.978516</td>\n",
       "      <td>4139.877930</td>\n",
       "      <td>5262697895</td>\n",
       "      <td>4074.577466</td>\n",
       "      <td>5357.565600</td>\n",
       "      <td>0</td>\n",
       "      <td>4162.966327</td>\n",
       "      <td>...</td>\n",
       "      <td>-2248.562011</td>\n",
       "      <td>40.220621</td>\n",
       "      <td>33.593449</td>\n",
       "      <td>27.388947</td>\n",
       "      <td>64.485454</td>\n",
       "      <td>64.242126</td>\n",
       "      <td>27.254138</td>\n",
       "      <td>26.195256</td>\n",
       "      <td>18.698994</td>\n",
       "      <td>18.161821</td>\n",
       "    </tr>\n",
       "    <tr>\n",
       "      <th>2</th>\n",
       "      <td>2018-12-03</td>\n",
       "      <td>4147.323730</td>\n",
       "      <td>4155.979492</td>\n",
       "      <td>3840.446289</td>\n",
       "      <td>3894.130859</td>\n",
       "      <td>5089570994</td>\n",
       "      <td>4029.279566</td>\n",
       "      <td>5314.523402</td>\n",
       "      <td>0</td>\n",
       "      <td>4095.753662</td>\n",
       "      <td>...</td>\n",
       "      <td>-2467.128907</td>\n",
       "      <td>32.955819</td>\n",
       "      <td>30.201882</td>\n",
       "      <td>25.923375</td>\n",
       "      <td>30.999680</td>\n",
       "      <td>57.176280</td>\n",
       "      <td>22.616871</td>\n",
       "      <td>26.769454</td>\n",
       "      <td>10.416595</td>\n",
       "      <td>16.778453</td>\n",
       "    </tr>\n",
       "    <tr>\n",
       "      <th>3</th>\n",
       "      <td>2018-12-04</td>\n",
       "      <td>3886.294922</td>\n",
       "      <td>4075.627686</td>\n",
       "      <td>3832.750000</td>\n",
       "      <td>3956.893799</td>\n",
       "      <td>5028069239</td>\n",
       "      <td>4036.892945</td>\n",
       "      <td>5275.733984</td>\n",
       "      <td>0</td>\n",
       "      <td>4061.037225</td>\n",
       "      <td>...</td>\n",
       "      <td>-2419.236084</td>\n",
       "      <td>36.379803</td>\n",
       "      <td>32.087675</td>\n",
       "      <td>26.956028</td>\n",
       "      <td>22.762460</td>\n",
       "      <td>39.415865</td>\n",
       "      <td>34.092234</td>\n",
       "      <td>27.987748</td>\n",
       "      <td>12.531891</td>\n",
       "      <td>13.882493</td>\n",
       "    </tr>\n",
       "    <tr>\n",
       "      <th>4</th>\n",
       "      <td>2018-12-05</td>\n",
       "      <td>3958.894775</td>\n",
       "      <td>3969.535889</td>\n",
       "      <td>3753.994873</td>\n",
       "      <td>3753.994873</td>\n",
       "      <td>5302481574</td>\n",
       "      <td>4011.295435</td>\n",
       "      <td>5233.463454</td>\n",
       "      <td>0</td>\n",
       "      <td>3984.274197</td>\n",
       "      <td>...</td>\n",
       "      <td>-2665.665283</td>\n",
       "      <td>30.504187</td>\n",
       "      <td>29.328953</td>\n",
       "      <td>25.755313</td>\n",
       "      <td>0.000000</td>\n",
       "      <td>17.920713</td>\n",
       "      <td>16.172510</td>\n",
       "      <td>24.293871</td>\n",
       "      <td>5.693600</td>\n",
       "      <td>9.547362</td>\n",
       "    </tr>\n",
       "  </tbody>\n",
       "</table>\n",
       "<p>5 rows × 27 columns</p>\n",
       "</div>"
      ],
      "text/plain": [
       "        date         open         high          low        close      volume  \\\n",
       "0 2018-12-01  4024.464355  4309.377441  3969.710693  4214.671875  5375314093   \n",
       "1 2018-12-02  4200.733398  4301.519531  4110.978516  4139.877930  5262697895   \n",
       "2 2018-12-03  4147.323730  4155.979492  3840.446289  3894.130859  5089570994   \n",
       "3 2018-12-04  3886.294922  4075.627686  3832.750000  3956.893799  5028069239   \n",
       "4 2018-12-05  3958.894775  3969.535889  3753.994873  3753.994873  5302481574   \n",
       "\n",
       "    short_mavg    long_mavg  signals         EMA7  ...        MOM30  \\\n",
       "0  4097.183667  5395.618340        0  4170.663233  ... -2163.107910   \n",
       "1  4074.577466  5357.565600        0  4162.966327  ... -2248.562011   \n",
       "2  4029.279566  5314.523402        0  4095.753662  ... -2467.128907   \n",
       "3  4036.892945  5275.733984        0  4061.037225  ... -2419.236084   \n",
       "4  4011.295435  5233.463454        0  3984.274197  ... -2665.665283   \n",
       "\n",
       "        RSI7      RSI14      RSI30        %K7        %D7       %K14  \\\n",
       "0  42.674729  34.694533  27.852213  76.043707  70.676188  30.437353   \n",
       "1  40.220621  33.593449  27.388947  64.485454  64.242126  27.254138   \n",
       "2  32.955819  30.201882  25.923375  30.999680  57.176280  22.616871   \n",
       "3  36.379803  32.087675  26.956028  22.762460  39.415865  34.092234   \n",
       "4  30.504187  29.328953  25.755313   0.000000  17.920713  16.172510   \n",
       "\n",
       "        %D14       %K30       %D30  \n",
       "0  28.272062  21.219770  19.723039  \n",
       "1  26.195256  18.698994  18.161821  \n",
       "2  26.769454  10.416595  16.778453  \n",
       "3  27.987748  12.531891  13.882493  \n",
       "4  24.293871   5.693600   9.547362  \n",
       "\n",
       "[5 rows x 27 columns]"
      ]
     },
     "execution_count": 279,
     "metadata": {},
     "output_type": "execute_result"
    }
   ],
   "source": [
    "df.reset_index(drop=True, inplace=True)\n",
    "df.head()"
   ]
  },
  {
   "cell_type": "code",
   "execution_count": 280,
   "metadata": {},
   "outputs": [],
   "source": [
    "df['year'] = df.date.dt.year\n",
    "# df['month'] = df.date.dt.month\n",
    "# df['day'] = df.date.dt.day\n",
    "# df['quarter'] = df.date.dt.quarter\n",
    "# df['day_of_week'] = df['date'].dt.dayofweek\n",
    "# df['is_weekend'] = df['date'].dt.dayofweek.isin([5, 6]).astype(int)  # 1 for weekend, 0 for weekdays\n",
    "\n",
    "# del df['date']"
   ]
  },
  {
   "cell_type": "code",
   "execution_count": 281,
   "metadata": {},
   "outputs": [],
   "source": [
    "# df.columns.to_list()\n",
    "features = [\n",
    "    'EMA7',\n",
    "    'EMA14',\n",
    "    'EMA30',\n",
    "    'ROC7',\n",
    "    'ROC14',\n",
    "    'ROC30',\n",
    "    'MOM7',\n",
    "    'MOM14',\n",
    "    'MOM30',\n",
    "    'RSI7',\n",
    "    'RSI14',\n",
    "    'RSI30',\n",
    "    '%K7',\n",
    "    '%D7',\n",
    "    '%K14',\n",
    "    '%D14',\n",
    "    '%K30',\n",
    "    '%D30'\n",
    "    ]"
   ]
  },
  {
   "cell_type": "code",
   "execution_count": 282,
   "metadata": {},
   "outputs": [
    {
     "data": {
      "image/png": "[encoded data removed]",
      "text/plain": [
       "<Figure size 2000x1500 with 15 Axes>"
      ]
     },
     "metadata": {},
     "output_type": "display_data"
    }
   ],
   "source": [
    "data_grouped = df.groupby('year')[features].mean()\n",
    "\n",
    "fig, axes = plt.subplots(nrows=5, ncols=3, figsize=(20, 15))\n",
    "for i, (col, ax) in enumerate(zip(features, axes.flatten())):\n",
    "    data_grouped[col].plot(kind='bar', ax=ax)\n",
    "    ax.set_title(col)\n",
    "    ax.set_ylabel('Mean')\n",
    "    ax.set_xlabel('Year')\n",
    "\n",
    "plt.tight_layout()\n",
    "plt.show()"
   ]
  },
  {
   "cell_type": "code",
   "execution_count": 258,
   "metadata": {},
   "outputs": [
    {
     "data": {
      "text/plain": [
       "date          0\n",
       "open          0\n",
       "high          0\n",
       "low           0\n",
       "close         0\n",
       "volume        0\n",
       "short_mavg    0\n",
       "long_mavg     0\n",
       "signals       0\n",
       "EMA7          0\n",
       "EMA14         0\n",
       "EMA30         0\n",
       "ROC7          0\n",
       "ROC14         0\n",
       "ROC30         0\n",
       "MOM7          0\n",
       "MOM14         0\n",
       "MOM30         0\n",
       "RSI7          0\n",
       "RSI14         0\n",
       "RSI30         0\n",
       "%K7           0\n",
       "%D7           0\n",
       "%K14          0\n",
       "%D14          0\n",
       "%K30          0\n",
       "%D30          0\n",
       "year          0\n",
       "dtype: int64"
      ]
     },
     "execution_count": 258,
     "metadata": {},
     "output_type": "execute_result"
    }
   ],
   "source": [
    "df.isnull().sum()"
   ]
  },
  {
   "cell_type": "code",
   "execution_count": 286,
   "metadata": {},
   "outputs": [
    {
     "data": {
      "text/html": [
       "<div>\n",
       "<style scoped>\n",
       "    .dataframe tbody tr th:only-of-type {\n",
       "        vertical-align: middle;\n",
       "    }\n",
       "\n",
       "    .dataframe tbody tr th {\n",
       "        vertical-align: top;\n",
       "    }\n",
       "\n",
       "    .dataframe thead th {\n",
       "        text-align: right;\n",
       "    }\n",
       "</style>\n",
       "<table border=\"1\" class=\"dataframe\">\n",
       "  <thead>\n",
       "    <tr style=\"text-align: right;\">\n",
       "      <th></th>\n",
       "      <th>date</th>\n",
       "      <th>open</th>\n",
       "      <th>high</th>\n",
       "      <th>low</th>\n",
       "      <th>close</th>\n",
       "      <th>volume</th>\n",
       "      <th>short_mavg</th>\n",
       "      <th>long_mavg</th>\n",
       "      <th>signals</th>\n",
       "      <th>EMA7</th>\n",
       "      <th>...</th>\n",
       "      <th>RSI7</th>\n",
       "      <th>RSI14</th>\n",
       "      <th>RSI30</th>\n",
       "      <th>%K7</th>\n",
       "      <th>%D7</th>\n",
       "      <th>%K14</th>\n",
       "      <th>%D14</th>\n",
       "      <th>%K30</th>\n",
       "      <th>%D30</th>\n",
       "      <th>year</th>\n",
       "    </tr>\n",
       "  </thead>\n",
       "  <tbody>\n",
       "    <tr>\n",
       "      <th>0</th>\n",
       "      <td>2018-12-01</td>\n",
       "      <td>4024.464355</td>\n",
       "      <td>4309.377441</td>\n",
       "      <td>3969.710693</td>\n",
       "      <td>4214.671875</td>\n",
       "      <td>5375314093</td>\n",
       "      <td>4097.183667</td>\n",
       "      <td>5395.618340</td>\n",
       "      <td>0</td>\n",
       "      <td>4170.663233</td>\n",
       "      <td>...</td>\n",
       "      <td>42.674729</td>\n",
       "      <td>34.694533</td>\n",
       "      <td>27.852213</td>\n",
       "      <td>76.043707</td>\n",
       "      <td>70.676188</td>\n",
       "      <td>30.437353</td>\n",
       "      <td>28.272062</td>\n",
       "      <td>21.219770</td>\n",
       "      <td>19.723039</td>\n",
       "      <td>2018</td>\n",
       "    </tr>\n",
       "    <tr>\n",
       "      <th>1</th>\n",
       "      <td>2018-12-02</td>\n",
       "      <td>4200.733398</td>\n",
       "      <td>4301.519531</td>\n",
       "      <td>4110.978516</td>\n",
       "      <td>4139.877930</td>\n",
       "      <td>5262697895</td>\n",
       "      <td>4074.577466</td>\n",
       "      <td>5357.565600</td>\n",
       "      <td>0</td>\n",
       "      <td>4162.966327</td>\n",
       "      <td>...</td>\n",
       "      <td>40.220621</td>\n",
       "      <td>33.593449</td>\n",
       "      <td>27.388947</td>\n",
       "      <td>64.485454</td>\n",
       "      <td>64.242126</td>\n",
       "      <td>27.254138</td>\n",
       "      <td>26.195256</td>\n",
       "      <td>18.698994</td>\n",
       "      <td>18.161821</td>\n",
       "      <td>2018</td>\n",
       "    </tr>\n",
       "    <tr>\n",
       "      <th>2</th>\n",
       "      <td>2018-12-03</td>\n",
       "      <td>4147.323730</td>\n",
       "      <td>4155.979492</td>\n",
       "      <td>3840.446289</td>\n",
       "      <td>3894.130859</td>\n",
       "      <td>5089570994</td>\n",
       "      <td>4029.279566</td>\n",
       "      <td>5314.523402</td>\n",
       "      <td>0</td>\n",
       "      <td>4095.753662</td>\n",
       "      <td>...</td>\n",
       "      <td>32.955819</td>\n",
       "      <td>30.201882</td>\n",
       "      <td>25.923375</td>\n",
       "      <td>30.999680</td>\n",
       "      <td>57.176280</td>\n",
       "      <td>22.616871</td>\n",
       "      <td>26.769454</td>\n",
       "      <td>10.416595</td>\n",
       "      <td>16.778453</td>\n",
       "      <td>2018</td>\n",
       "    </tr>\n",
       "    <tr>\n",
       "      <th>3</th>\n",
       "      <td>2018-12-04</td>\n",
       "      <td>3886.294922</td>\n",
       "      <td>4075.627686</td>\n",
       "      <td>3832.750000</td>\n",
       "      <td>3956.893799</td>\n",
       "      <td>5028069239</td>\n",
       "      <td>4036.892945</td>\n",
       "      <td>5275.733984</td>\n",
       "      <td>0</td>\n",
       "      <td>4061.037225</td>\n",
       "      <td>...</td>\n",
       "      <td>36.379803</td>\n",
       "      <td>32.087675</td>\n",
       "      <td>26.956028</td>\n",
       "      <td>22.762460</td>\n",
       "      <td>39.415865</td>\n",
       "      <td>34.092234</td>\n",
       "      <td>27.987748</td>\n",
       "      <td>12.531891</td>\n",
       "      <td>13.882493</td>\n",
       "      <td>2018</td>\n",
       "    </tr>\n",
       "    <tr>\n",
       "      <th>4</th>\n",
       "      <td>2018-12-05</td>\n",
       "      <td>3958.894775</td>\n",
       "      <td>3969.535889</td>\n",
       "      <td>3753.994873</td>\n",
       "      <td>3753.994873</td>\n",
       "      <td>5302481574</td>\n",
       "      <td>4011.295435</td>\n",
       "      <td>5233.463454</td>\n",
       "      <td>0</td>\n",
       "      <td>3984.274197</td>\n",
       "      <td>...</td>\n",
       "      <td>30.504187</td>\n",
       "      <td>29.328953</td>\n",
       "      <td>25.755313</td>\n",
       "      <td>0.000000</td>\n",
       "      <td>17.920713</td>\n",
       "      <td>16.172510</td>\n",
       "      <td>24.293871</td>\n",
       "      <td>5.693600</td>\n",
       "      <td>9.547362</td>\n",
       "      <td>2018</td>\n",
       "    </tr>\n",
       "  </tbody>\n",
       "</table>\n",
       "<p>5 rows × 28 columns</p>\n",
       "</div>"
      ],
      "text/plain": [
       "        date         open         high          low        close      volume  \\\n",
       "0 2018-12-01  4024.464355  4309.377441  3969.710693  4214.671875  5375314093   \n",
       "1 2018-12-02  4200.733398  4301.519531  4110.978516  4139.877930  5262697895   \n",
       "2 2018-12-03  4147.323730  4155.979492  3840.446289  3894.130859  5089570994   \n",
       "3 2018-12-04  3886.294922  4075.627686  3832.750000  3956.893799  5028069239   \n",
       "4 2018-12-05  3958.894775  3969.535889  3753.994873  3753.994873  5302481574   \n",
       "\n",
       "    short_mavg    long_mavg  signals         EMA7  ...       RSI7      RSI14  \\\n",
       "0  4097.183667  5395.618340        0  4170.663233  ...  42.674729  34.694533   \n",
       "1  4074.577466  5357.565600        0  4162.966327  ...  40.220621  33.593449   \n",
       "2  4029.279566  5314.523402        0  4095.753662  ...  32.955819  30.201882   \n",
       "3  4036.892945  5275.733984        0  4061.037225  ...  36.379803  32.087675   \n",
       "4  4011.295435  5233.463454        0  3984.274197  ...  30.504187  29.328953   \n",
       "\n",
       "       RSI30        %K7        %D7       %K14       %D14       %K30  \\\n",
       "0  27.852213  76.043707  70.676188  30.437353  28.272062  21.219770   \n",
       "1  27.388947  64.485454  64.242126  27.254138  26.195256  18.698994   \n",
       "2  25.923375  30.999680  57.176280  22.616871  26.769454  10.416595   \n",
       "3  26.956028  22.762460  39.415865  34.092234  27.987748  12.531891   \n",
       "4  25.755313   0.000000  17.920713  16.172510  24.293871   5.693600   \n",
       "\n",
       "        %D30  year  \n",
       "0  19.723039  2018  \n",
       "1  18.161821  2018  \n",
       "2  16.778453  2018  \n",
       "3  13.882493  2018  \n",
       "4   9.547362  2018  \n",
       "\n",
       "[5 rows x 28 columns]"
      ]
     },
     "execution_count": 286,
     "metadata": {},
     "output_type": "execute_result"
    }
   ],
   "source": [
    "df.head()"
   ]
  },
  {
   "cell_type": "code",
   "execution_count": 287,
   "metadata": {},
   "outputs": [
    {
     "data": {
      "text/html": [
       "<div>\n",
       "<style scoped>\n",
       "    .dataframe tbody tr th:only-of-type {\n",
       "        vertical-align: middle;\n",
       "    }\n",
       "\n",
       "    .dataframe tbody tr th {\n",
       "        vertical-align: top;\n",
       "    }\n",
       "\n",
       "    .dataframe thead th {\n",
       "        text-align: right;\n",
       "    }\n",
       "</style>\n",
       "<table border=\"1\" class=\"dataframe\">\n",
       "  <thead>\n",
       "    <tr style=\"text-align: right;\">\n",
       "      <th></th>\n",
       "      <th>Feature</th>\n",
       "      <th>Correlation with Target</th>\n",
       "    </tr>\n",
       "  </thead>\n",
       "  <tbody>\n",
       "    <tr>\n",
       "      <th>0</th>\n",
       "      <td>EMA7</td>\n",
       "      <td>0.083532</td>\n",
       "    </tr>\n",
       "    <tr>\n",
       "      <th>1</th>\n",
       "      <td>EMA14</td>\n",
       "      <td>0.059582</td>\n",
       "    </tr>\n",
       "    <tr>\n",
       "      <th>2</th>\n",
       "      <td>EMA30</td>\n",
       "      <td>0.006274</td>\n",
       "    </tr>\n",
       "    <tr>\n",
       "      <th>3</th>\n",
       "      <td>ROC7</td>\n",
       "      <td>0.212050</td>\n",
       "    </tr>\n",
       "    <tr>\n",
       "      <th>4</th>\n",
       "      <td>ROC14</td>\n",
       "      <td>0.440605</td>\n",
       "    </tr>\n",
       "    <tr>\n",
       "      <th>5</th>\n",
       "      <td>ROC30</td>\n",
       "      <td>0.660099</td>\n",
       "    </tr>\n",
       "    <tr>\n",
       "      <th>6</th>\n",
       "      <td>MOM7</td>\n",
       "      <td>0.206828</td>\n",
       "    </tr>\n",
       "    <tr>\n",
       "      <th>7</th>\n",
       "      <td>MOM14</td>\n",
       "      <td>0.393229</td>\n",
       "    </tr>\n",
       "    <tr>\n",
       "      <th>8</th>\n",
       "      <td>MOM30</td>\n",
       "      <td>0.579537</td>\n",
       "    </tr>\n",
       "    <tr>\n",
       "      <th>9</th>\n",
       "      <td>RSI7</td>\n",
       "      <td>0.420639</td>\n",
       "    </tr>\n",
       "    <tr>\n",
       "      <th>10</th>\n",
       "      <td>RSI14</td>\n",
       "      <td>0.627456</td>\n",
       "    </tr>\n",
       "    <tr>\n",
       "      <th>11</th>\n",
       "      <td>RSI30</td>\n",
       "      <td>0.741995</td>\n",
       "    </tr>\n",
       "    <tr>\n",
       "      <th>12</th>\n",
       "      <td>%K7</td>\n",
       "      <td>0.151946</td>\n",
       "    </tr>\n",
       "    <tr>\n",
       "      <th>13</th>\n",
       "      <td>%D7</td>\n",
       "      <td>0.211520</td>\n",
       "    </tr>\n",
       "    <tr>\n",
       "      <th>14</th>\n",
       "      <td>%K14</td>\n",
       "      <td>0.312254</td>\n",
       "    </tr>\n",
       "    <tr>\n",
       "      <th>15</th>\n",
       "      <td>%D14</td>\n",
       "      <td>0.374406</td>\n",
       "    </tr>\n",
       "    <tr>\n",
       "      <th>16</th>\n",
       "      <td>%K30</td>\n",
       "      <td>0.598306</td>\n",
       "    </tr>\n",
       "    <tr>\n",
       "      <th>17</th>\n",
       "      <td>%D30</td>\n",
       "      <td>0.650774</td>\n",
       "    </tr>\n",
       "  </tbody>\n",
       "</table>\n",
       "</div>"
      ],
      "text/plain": [
       "   Feature  Correlation with Target\n",
       "0     EMA7                 0.083532\n",
       "1    EMA14                 0.059582\n",
       "2    EMA30                 0.006274\n",
       "3     ROC7                 0.212050\n",
       "4    ROC14                 0.440605\n",
       "5    ROC30                 0.660099\n",
       "6     MOM7                 0.206828\n",
       "7    MOM14                 0.393229\n",
       "8    MOM30                 0.579537\n",
       "9     RSI7                 0.420639\n",
       "10   RSI14                 0.627456\n",
       "11   RSI30                 0.741995\n",
       "12     %K7                 0.151946\n",
       "13     %D7                 0.211520\n",
       "14    %K14                 0.312254\n",
       "15    %D14                 0.374406\n",
       "16    %K30                 0.598306\n",
       "17    %D30                 0.650774"
      ]
     },
     "execution_count": 287,
     "metadata": {},
     "output_type": "execute_result"
    }
   ],
   "source": [
    "features_columns = features\n",
    "\n",
    "result = {}\n",
    "\n",
    "for feature in features_columns:\n",
    "    correlation = df[[feature]].corrwith(df.signals)\n",
    "    result[feature] = correlation[feature]\n",
    "    \n",
    "    \n",
    "corr_df = pd.DataFrame(result.items(), columns=['Feature', 'Correlation with Target'])\n",
    "corr_df"
   ]
  },
  {
   "cell_type": "code",
   "execution_count": 288,
   "metadata": {},
   "outputs": [
    {
     "data": {
      "image/png": "[encoded data removed]",
      "text/plain": [
       "<Figure size 1000x1000 with 1 Axes>"
      ]
     },
     "metadata": {},
     "output_type": "display_data"
    }
   ],
   "source": [
    "#@ visualize heatmap\n",
    "plt.figure(figsize=(10, 10))\n",
    "sns.heatmap(df[features_columns].corr() > 0.9, annot=True, cbar=False)\n",
    "plt.show()"
   ]
  },
  {
   "cell_type": "code",
   "execution_count": null,
   "metadata": {},
   "outputs": [],
   "source": []
  },
  {
   "cell_type": "code",
   "execution_count": 326,
   "metadata": {},
   "outputs": [
    {
     "data": {
      "text/plain": [
       "(1347, 449, 360)"
      ]
     },
     "execution_count": 326,
     "metadata": {},
     "output_type": "execute_result"
    }
   ],
   "source": [
    "# split_data\n",
    "df_train_full, df_test = train_test_split(df, test_size=0.2, random_state=42)\n",
    "df_train, df_val = train_test_split(df, test_size=0.25, random_state=42)\n",
    "\n",
    "df_train = df_train.reset_index(drop=True)\n",
    "df_val = df_val.reset_index(drop=True)\n",
    "df_test = df_test.reset_index(drop=True)\n",
    "\n",
    "len(df_train), len(df_val), len(df_test)"
   ]
  },
  {
   "cell_type": "code",
   "execution_count": 328,
   "metadata": {},
   "outputs": [],
   "source": [
    "# def split_dataframe(df, train_fraction=0.8):\n",
    "#     split_index = int(train_fraction * len(df))\n",
    "#     df_train = df[:split_index].reset_index(drop=True)\n",
    "#     df_test = df[split_index:].reset_index(drop=True)\n",
    "#     return df_train, df_test\n",
    "\n",
    "\n",
    "# df_train_full, df_test = split_dataframe(df, train_fraction=0.8)\n",
    "# df_train, df_val = split_dataframe(df_train_full, train_fraction=0.75)\n",
    "\n",
    "# len(df_train), len(df_val), len(df_test)"
   ]
  },
  {
   "cell_type": "code",
   "execution_count": 330,
   "metadata": {},
   "outputs": [],
   "source": [
    "y_train = df_train.signals.values\n",
    "y_val = df_val.signals.values\n",
    "y_test = df_test.signals.values"
   ]
  },
  {
   "cell_type": "markdown",
   "metadata": {},
   "source": [
    "### Model Training and Evaluation"
   ]
  },
  {
   "cell_type": "code",
   "execution_count": 331,
   "metadata": {},
   "outputs": [],
   "source": [
    "train_dict = df_train[features].to_dict(orient=\"records\")\n",
    "dv = DictVectorizer(sparse=False)\n",
    "dv.fit(train_dict)\n",
    "X_train = dv.transform(train_dict)\n",
    "\n",
    "# scaler = StandardScaler()\n",
    "# X_train = scaler.fit_transform(df_train[features])"
   ]
  },
  {
   "cell_type": "markdown",
   "metadata": {},
   "source": [
    "#### Logistic Regression"
   ]
  },
  {
   "cell_type": "code",
   "execution_count": 332,
   "metadata": {},
   "outputs": [
    {
     "data": {
      "text/html": [
       "<style>#sk-container-id-16 {color: black;}#sk-container-id-16 pre{padding: 0;}#sk-container-id-16 div.sk-toggleable {background-color: white;}#sk-container-id-16 label.sk-toggleable__label {cursor: pointer;display: block;width: 100%;margin-bottom: 0;padding: 0.3em;box-sizing: border-box;text-align: center;}#sk-container-id-16 label.sk-toggleable__label-arrow:before {content: \"▸\";float: left;margin-right: 0.25em;color: #696969;}#sk-container-id-16 label.sk-toggleable__label-arrow:hover:before {color: black;}#sk-container-id-16 div.sk-estimator:hover label.sk-toggleable__label-arrow:before {color: black;}#sk-container-id-16 div.sk-toggleable__content {max-height: 0;max-width: 0;overflow: hidden;text-align: left;background-color: #f0f8ff;}#sk-container-id-16 div.sk-toggleable__content pre {margin: 0.2em;color: black;border-radius: 0.25em;background-color: #f0f8ff;}#sk-container-id-16 input.sk-toggleable__control:checked~div.sk-toggleable__content {max-height: 200px;max-width: 100%;overflow: auto;}#sk-container-id-16 input.sk-toggleable__control:checked~label.sk-toggleable__label-arrow:before {content: \"▾\";}#sk-container-id-16 div.sk-estimator input.sk-toggleable__control:checked~label.sk-toggleable__label {background-color: #d4ebff;}#sk-container-id-16 div.sk-label input.sk-toggleable__control:checked~label.sk-toggleable__label {background-color: #d4ebff;}#sk-container-id-16 input.sk-hidden--visually {border: 0;clip: rect(1px 1px 1px 1px);clip: rect(1px, 1px, 1px, 1px);height: 1px;margin: -1px;overflow: hidden;padding: 0;position: absolute;width: 1px;}#sk-container-id-16 div.sk-estimator {font-family: monospace;background-color: #f0f8ff;border: 1px dotted black;border-radius: 0.25em;box-sizing: border-box;margin-bottom: 0.5em;}#sk-container-id-16 div.sk-estimator:hover {background-color: #d4ebff;}#sk-container-id-16 div.sk-parallel-item::after {content: \"\";width: 100%;border-bottom: 1px solid gray;flex-grow: 1;}#sk-container-id-16 div.sk-label:hover label.sk-toggleable__label {background-color: #d4ebff;}#sk-container-id-16 div.sk-serial::before {content: \"\";position: absolute;border-left: 1px solid gray;box-sizing: border-box;top: 0;bottom: 0;left: 50%;z-index: 0;}#sk-container-id-16 div.sk-serial {display: flex;flex-direction: column;align-items: center;background-color: white;padding-right: 0.2em;padding-left: 0.2em;position: relative;}#sk-container-id-16 div.sk-item {position: relative;z-index: 1;}#sk-container-id-16 div.sk-parallel {display: flex;align-items: stretch;justify-content: center;background-color: white;position: relative;}#sk-container-id-16 div.sk-item::before, #sk-container-id-16 div.sk-parallel-item::before {content: \"\";position: absolute;border-left: 1px solid gray;box-sizing: border-box;top: 0;bottom: 0;left: 50%;z-index: -1;}#sk-container-id-16 div.sk-parallel-item {display: flex;flex-direction: column;z-index: 1;position: relative;background-color: white;}#sk-container-id-16 div.sk-parallel-item:first-child::after {align-self: flex-end;width: 50%;}#sk-container-id-16 div.sk-parallel-item:last-child::after {align-self: flex-start;width: 50%;}#sk-container-id-16 div.sk-parallel-item:only-child::after {width: 0;}#sk-container-id-16 div.sk-dashed-wrapped {border: 1px dashed gray;margin: 0 0.4em 0.5em 0.4em;box-sizing: border-box;padding-bottom: 0.4em;background-color: white;}#sk-container-id-16 div.sk-label label {font-family: monospace;font-weight: bold;display: inline-block;line-height: 1.2em;}#sk-container-id-16 div.sk-label-container {text-align: center;}#sk-container-id-16 div.sk-container {/* jupyter's `normalize.less` sets `[hidden] { display: none; }` but bootstrap.min.css set `[hidden] { display: none !important; }` so we also need the `!important` here to be able to override the default hidden behavior on the sphinx rendered scikit-learn.org. See: https://github.com/scikit-learn/scikit-learn/issues/21755 */display: inline-block !important;position: relative;}#sk-container-id-16 div.sk-text-repr-fallback {display: none;}</style><div id=\"sk-container-id-16\" class=\"sk-top-container\"><div class=\"sk-text-repr-fallback\"><pre>LogisticRegression(C=10, max_iter=1000, random_state=42, solver=&#x27;liblinear&#x27;)</pre><b>In a Jupyter environment, please rerun this cell to show the HTML representation or trust the notebook. <br />On GitHub, the HTML representation is unable to render, please try loading this page with nbviewer.org.</b></div><div class=\"sk-container\" hidden><div class=\"sk-item\"><div class=\"sk-estimator sk-toggleable\"><input class=\"sk-toggleable__control sk-hidden--visually\" id=\"sk-estimator-id-16\" type=\"checkbox\" checked><label for=\"sk-estimator-id-16\" class=\"sk-toggleable__label sk-toggleable__label-arrow\">LogisticRegression</label><div class=\"sk-toggleable__content\"><pre>LogisticRegression(C=10, max_iter=1000, random_state=42, solver=&#x27;liblinear&#x27;)</pre></div></div></div></div></div>"
      ],
      "text/plain": [
       "LogisticRegression(C=10, max_iter=1000, random_state=42, solver='liblinear')"
      ]
     },
     "execution_count": 332,
     "metadata": {},
     "output_type": "execute_result"
    }
   ],
   "source": [
    "#@ TRAINING LOGISTIC REGRESSION MODEL\n",
    "model = LogisticRegression(solver='liblinear', C=10,\n",
    "                           max_iter=1000, random_state=42)\n",
    "model.fit(X_train, y_train)"
   ]
  },
  {
   "cell_type": "code",
   "execution_count": 333,
   "metadata": {},
   "outputs": [
    {
     "name": "stdout",
     "output_type": "stream",
     "text": [
      "0.97\n"
     ]
    }
   ],
   "source": [
    "val_dict = df_val[features].to_dict(orient='records')\n",
    "X_val = dv.transform(val_dict)\n",
    "\n",
    "# X_val = scaler.transform(df_val[features])\n",
    "\n",
    "y_pred = model.predict(X_val)\n",
    "accuracy = np.round(accuracy_score(y_val, y_pred), 2)\n",
    "print(accuracy)"
   ]
  },
  {
   "cell_type": "code",
   "execution_count": 334,
   "metadata": {},
   "outputs": [
    {
     "name": "stdout",
     "output_type": "stream",
     "text": [
      "EMA7 0.010089086859688123 0.9599109131403119\n",
      "EMA14 0.03458797327394203 0.9354120267260579\n",
      "EMA30 0.08804008908685967 0.8819599109131403\n",
      "ROC7 -0.00327394209354126 0.9732739420935412\n",
      "ROC14 -0.00327394209354126 0.9732739420935412\n",
      "ROC30 -0.00550111358574612 0.9755011135857461\n",
      "MOM7 -0.00327394209354126 0.9732739420935412\n",
      "MOM14 0.0011804008908685715 0.9688195991091314\n",
      "MOM30 -0.0010467706013362887 0.9710467706013363\n",
      "RSI7 -0.00327394209354126 0.9732739420935412\n",
      "RSI14 -0.00327394209354126 0.9732739420935412\n",
      "RSI30 -0.00327394209354126 0.9732739420935412\n",
      "%K7 -0.00327394209354126 0.9732739420935412\n",
      "%D7 -0.00327394209354126 0.9732739420935412\n",
      "%K14 -0.00327394209354126 0.9732739420935412\n",
      "%D14 -0.0010467706013362887 0.9710467706013363\n",
      "%K30 -0.0010467706013362887 0.9710467706013363\n",
      "%D30 -0.0010467706013362887 0.9710467706013363\n"
     ]
    }
   ],
   "source": [
    "orig_score = accuracy\n",
    "\n",
    "for col in features:\n",
    "    subset = features.copy()\n",
    "    subset.remove(col)\n",
    "\n",
    "    train_dict = df_train[subset].to_dict(orient=\"records\")\n",
    "\n",
    "    dv = DictVectorizer(sparse=False)\n",
    "    dv.fit(train_dict)\n",
    "\n",
    "    X_train = dv.transform(train_dict)\n",
    "\n",
    "    model = LogisticRegression(\n",
    "        solver='liblinear', C=10, max_iter=1000, random_state=42)\n",
    "    model.fit(X_train, y_train)\n",
    "\n",
    "    val_dict = df_val[subset].to_dict(orient=\"records\")\n",
    "    X_val = dv.transform(val_dict)\n",
    "\n",
    "    y_pred = model.predict(X_val)\n",
    "\n",
    "    score = accuracy_score(y_val, y_pred)\n",
    "    print(col, orig_score - score, score)"
   ]
  },
  {
   "cell_type": "markdown",
   "metadata": {},
   "source": [
    "#### Decision Tree"
   ]
  },
  {
   "cell_type": "code",
   "execution_count": 336,
   "metadata": {},
   "outputs": [
    {
     "data": {
      "text/html": [
       "<style>#sk-container-id-17 {color: black;}#sk-container-id-17 pre{padding: 0;}#sk-container-id-17 div.sk-toggleable {background-color: white;}#sk-container-id-17 label.sk-toggleable__label {cursor: pointer;display: block;width: 100%;margin-bottom: 0;padding: 0.3em;box-sizing: border-box;text-align: center;}#sk-container-id-17 label.sk-toggleable__label-arrow:before {content: \"▸\";float: left;margin-right: 0.25em;color: #696969;}#sk-container-id-17 label.sk-toggleable__label-arrow:hover:before {color: black;}#sk-container-id-17 div.sk-estimator:hover label.sk-toggleable__label-arrow:before {color: black;}#sk-container-id-17 div.sk-toggleable__content {max-height: 0;max-width: 0;overflow: hidden;text-align: left;background-color: #f0f8ff;}#sk-container-id-17 div.sk-toggleable__content pre {margin: 0.2em;color: black;border-radius: 0.25em;background-color: #f0f8ff;}#sk-container-id-17 input.sk-toggleable__control:checked~div.sk-toggleable__content {max-height: 200px;max-width: 100%;overflow: auto;}#sk-container-id-17 input.sk-toggleable__control:checked~label.sk-toggleable__label-arrow:before {content: \"▾\";}#sk-container-id-17 div.sk-estimator input.sk-toggleable__control:checked~label.sk-toggleable__label {background-color: #d4ebff;}#sk-container-id-17 div.sk-label input.sk-toggleable__control:checked~label.sk-toggleable__label {background-color: #d4ebff;}#sk-container-id-17 input.sk-hidden--visually {border: 0;clip: rect(1px 1px 1px 1px);clip: rect(1px, 1px, 1px, 1px);height: 1px;margin: -1px;overflow: hidden;padding: 0;position: absolute;width: 1px;}#sk-container-id-17 div.sk-estimator {font-family: monospace;background-color: #f0f8ff;border: 1px dotted black;border-radius: 0.25em;box-sizing: border-box;margin-bottom: 0.5em;}#sk-container-id-17 div.sk-estimator:hover {background-color: #d4ebff;}#sk-container-id-17 div.sk-parallel-item::after {content: \"\";width: 100%;border-bottom: 1px solid gray;flex-grow: 1;}#sk-container-id-17 div.sk-label:hover label.sk-toggleable__label {background-color: #d4ebff;}#sk-container-id-17 div.sk-serial::before {content: \"\";position: absolute;border-left: 1px solid gray;box-sizing: border-box;top: 0;bottom: 0;left: 50%;z-index: 0;}#sk-container-id-17 div.sk-serial {display: flex;flex-direction: column;align-items: center;background-color: white;padding-right: 0.2em;padding-left: 0.2em;position: relative;}#sk-container-id-17 div.sk-item {position: relative;z-index: 1;}#sk-container-id-17 div.sk-parallel {display: flex;align-items: stretch;justify-content: center;background-color: white;position: relative;}#sk-container-id-17 div.sk-item::before, #sk-container-id-17 div.sk-parallel-item::before {content: \"\";position: absolute;border-left: 1px solid gray;box-sizing: border-box;top: 0;bottom: 0;left: 50%;z-index: -1;}#sk-container-id-17 div.sk-parallel-item {display: flex;flex-direction: column;z-index: 1;position: relative;background-color: white;}#sk-container-id-17 div.sk-parallel-item:first-child::after {align-self: flex-end;width: 50%;}#sk-container-id-17 div.sk-parallel-item:last-child::after {align-self: flex-start;width: 50%;}#sk-container-id-17 div.sk-parallel-item:only-child::after {width: 0;}#sk-container-id-17 div.sk-dashed-wrapped {border: 1px dashed gray;margin: 0 0.4em 0.5em 0.4em;box-sizing: border-box;padding-bottom: 0.4em;background-color: white;}#sk-container-id-17 div.sk-label label {font-family: monospace;font-weight: bold;display: inline-block;line-height: 1.2em;}#sk-container-id-17 div.sk-label-container {text-align: center;}#sk-container-id-17 div.sk-container {/* jupyter's `normalize.less` sets `[hidden] { display: none; }` but bootstrap.min.css set `[hidden] { display: none !important; }` so we also need the `!important` here to be able to override the default hidden behavior on the sphinx rendered scikit-learn.org. See: https://github.com/scikit-learn/scikit-learn/issues/21755 */display: inline-block !important;position: relative;}#sk-container-id-17 div.sk-text-repr-fallback {display: none;}</style><div id=\"sk-container-id-17\" class=\"sk-top-container\"><div class=\"sk-text-repr-fallback\"><pre>DecisionTreeClassifier(max_depth=2)</pre><b>In a Jupyter environment, please rerun this cell to show the HTML representation or trust the notebook. <br />On GitHub, the HTML representation is unable to render, please try loading this page with nbviewer.org.</b></div><div class=\"sk-container\" hidden><div class=\"sk-item\"><div class=\"sk-estimator sk-toggleable\"><input class=\"sk-toggleable__control sk-hidden--visually\" id=\"sk-estimator-id-17\" type=\"checkbox\" checked><label for=\"sk-estimator-id-17\" class=\"sk-toggleable__label sk-toggleable__label-arrow\">DecisionTreeClassifier</label><div class=\"sk-toggleable__content\"><pre>DecisionTreeClassifier(max_depth=2)</pre></div></div></div></div></div>"
      ],
      "text/plain": [
       "DecisionTreeClassifier(max_depth=2)"
      ]
     },
     "execution_count": 336,
     "metadata": {},
     "output_type": "execute_result"
    }
   ],
   "source": [
    "#@ TRAINING DECISIONTREE MODEL\n",
    "dt = DecisionTreeClassifier(max_depth=2)\n",
    "dt.fit(X_train, y_train)"
   ]
  },
  {
   "cell_type": "code",
   "execution_count": 337,
   "metadata": {},
   "outputs": [
    {
     "name": "stdout",
     "output_type": "stream",
     "text": [
      "|--- RSI30 <= 51.96\n",
      "|   |--- RSI30 <= 47.67\n",
      "|   |   |--- class: 0\n",
      "|   |--- RSI30 >  47.67\n",
      "|   |   |--- class: 0\n",
      "|--- RSI30 >  51.96\n",
      "|   |--- MOM30 <= -345.32\n",
      "|   |   |--- class: 0\n",
      "|   |--- MOM30 >  -345.32\n",
      "|   |   |--- class: 1\n",
      "\n"
     ]
    }
   ],
   "source": [
    "print(export_text(dt, feature_names=dv.feature_names_))"
   ]
  },
  {
   "cell_type": "code",
   "execution_count": 338,
   "metadata": {},
   "outputs": [
    {
     "name": "stdout",
     "output_type": "stream",
     "text": [
      "0.8864142538975501\n"
     ]
    }
   ],
   "source": [
    "y_pred = dt.predict(X_val)\n",
    "acc = accuracy_score(y_val, y_pred)\n",
    "print(acc)"
   ]
  },
  {
   "cell_type": "code",
   "execution_count": 339,
   "metadata": {},
   "outputs": [
    {
     "data": {
      "text/plain": [
       "0.8829049611476391"
      ]
     },
     "execution_count": 339,
     "metadata": {},
     "output_type": "execute_result"
    }
   ],
   "source": [
    "roc_auc_score(y_val, y_pred)"
   ]
  },
  {
   "cell_type": "markdown",
   "metadata": {},
   "source": [
    "#### Random Foresest Classifier"
   ]
  },
  {
   "cell_type": "code",
   "execution_count": 341,
   "metadata": {},
   "outputs": [
    {
     "data": {
      "text/html": [
       "<style>#sk-container-id-18 {color: black;}#sk-container-id-18 pre{padding: 0;}#sk-container-id-18 div.sk-toggleable {background-color: white;}#sk-container-id-18 label.sk-toggleable__label {cursor: pointer;display: block;width: 100%;margin-bottom: 0;padding: 0.3em;box-sizing: border-box;text-align: center;}#sk-container-id-18 label.sk-toggleable__label-arrow:before {content: \"▸\";float: left;margin-right: 0.25em;color: #696969;}#sk-container-id-18 label.sk-toggleable__label-arrow:hover:before {color: black;}#sk-container-id-18 div.sk-estimator:hover label.sk-toggleable__label-arrow:before {color: black;}#sk-container-id-18 div.sk-toggleable__content {max-height: 0;max-width: 0;overflow: hidden;text-align: left;background-color: #f0f8ff;}#sk-container-id-18 div.sk-toggleable__content pre {margin: 0.2em;color: black;border-radius: 0.25em;background-color: #f0f8ff;}#sk-container-id-18 input.sk-toggleable__control:checked~div.sk-toggleable__content {max-height: 200px;max-width: 100%;overflow: auto;}#sk-container-id-18 input.sk-toggleable__control:checked~label.sk-toggleable__label-arrow:before {content: \"▾\";}#sk-container-id-18 div.sk-estimator input.sk-toggleable__control:checked~label.sk-toggleable__label {background-color: #d4ebff;}#sk-container-id-18 div.sk-label input.sk-toggleable__control:checked~label.sk-toggleable__label {background-color: #d4ebff;}#sk-container-id-18 input.sk-hidden--visually {border: 0;clip: rect(1px 1px 1px 1px);clip: rect(1px, 1px, 1px, 1px);height: 1px;margin: -1px;overflow: hidden;padding: 0;position: absolute;width: 1px;}#sk-container-id-18 div.sk-estimator {font-family: monospace;background-color: #f0f8ff;border: 1px dotted black;border-radius: 0.25em;box-sizing: border-box;margin-bottom: 0.5em;}#sk-container-id-18 div.sk-estimator:hover {background-color: #d4ebff;}#sk-container-id-18 div.sk-parallel-item::after {content: \"\";width: 100%;border-bottom: 1px solid gray;flex-grow: 1;}#sk-container-id-18 div.sk-label:hover label.sk-toggleable__label {background-color: #d4ebff;}#sk-container-id-18 div.sk-serial::before {content: \"\";position: absolute;border-left: 1px solid gray;box-sizing: border-box;top: 0;bottom: 0;left: 50%;z-index: 0;}#sk-container-id-18 div.sk-serial {display: flex;flex-direction: column;align-items: center;background-color: white;padding-right: 0.2em;padding-left: 0.2em;position: relative;}#sk-container-id-18 div.sk-item {position: relative;z-index: 1;}#sk-container-id-18 div.sk-parallel {display: flex;align-items: stretch;justify-content: center;background-color: white;position: relative;}#sk-container-id-18 div.sk-item::before, #sk-container-id-18 div.sk-parallel-item::before {content: \"\";position: absolute;border-left: 1px solid gray;box-sizing: border-box;top: 0;bottom: 0;left: 50%;z-index: -1;}#sk-container-id-18 div.sk-parallel-item {display: flex;flex-direction: column;z-index: 1;position: relative;background-color: white;}#sk-container-id-18 div.sk-parallel-item:first-child::after {align-self: flex-end;width: 50%;}#sk-container-id-18 div.sk-parallel-item:last-child::after {align-self: flex-start;width: 50%;}#sk-container-id-18 div.sk-parallel-item:only-child::after {width: 0;}#sk-container-id-18 div.sk-dashed-wrapped {border: 1px dashed gray;margin: 0 0.4em 0.5em 0.4em;box-sizing: border-box;padding-bottom: 0.4em;background-color: white;}#sk-container-id-18 div.sk-label label {font-family: monospace;font-weight: bold;display: inline-block;line-height: 1.2em;}#sk-container-id-18 div.sk-label-container {text-align: center;}#sk-container-id-18 div.sk-container {/* jupyter's `normalize.less` sets `[hidden] { display: none; }` but bootstrap.min.css set `[hidden] { display: none !important; }` so we also need the `!important` here to be able to override the default hidden behavior on the sphinx rendered scikit-learn.org. See: https://github.com/scikit-learn/scikit-learn/issues/21755 */display: inline-block !important;position: relative;}#sk-container-id-18 div.sk-text-repr-fallback {display: none;}</style><div id=\"sk-container-id-18\" class=\"sk-top-container\"><div class=\"sk-text-repr-fallback\"><pre>RandomForestClassifier(n_estimators=10, n_jobs=-1, random_state=1)</pre><b>In a Jupyter environment, please rerun this cell to show the HTML representation or trust the notebook. <br />On GitHub, the HTML representation is unable to render, please try loading this page with nbviewer.org.</b></div><div class=\"sk-container\" hidden><div class=\"sk-item\"><div class=\"sk-estimator sk-toggleable\"><input class=\"sk-toggleable__control sk-hidden--visually\" id=\"sk-estimator-id-18\" type=\"checkbox\" checked><label for=\"sk-estimator-id-18\" class=\"sk-toggleable__label sk-toggleable__label-arrow\">RandomForestClassifier</label><div class=\"sk-toggleable__content\"><pre>RandomForestClassifier(n_estimators=10, n_jobs=-1, random_state=1)</pre></div></div></div></div></div>"
      ],
      "text/plain": [
       "RandomForestClassifier(n_estimators=10, n_jobs=-1, random_state=1)"
      ]
     },
     "execution_count": 341,
     "metadata": {},
     "output_type": "execute_result"
    }
   ],
   "source": [
    "rf = RandomForestClassifier(n_estimators=10, random_state=1, n_jobs=-1)\n",
    "rf.fit(X_train, y_train)"
   ]
  },
  {
   "cell_type": "code",
   "execution_count": 342,
   "metadata": {},
   "outputs": [
    {
     "name": "stdout",
     "output_type": "stream",
     "text": [
      "0.9287305122494433\n"
     ]
    }
   ],
   "source": [
    "y_pred = rf.predict(X_val)\n",
    "acc = accuracy_score(y_val, y_pred)\n",
    "print(acc)"
   ]
  },
  {
   "cell_type": "code",
   "execution_count": 343,
   "metadata": {},
   "outputs": [
    {
     "data": {
      "text/plain": [
       "0.9272763498704921"
      ]
     },
     "execution_count": 343,
     "metadata": {},
     "output_type": "execute_result"
    }
   ],
   "source": [
    "roc_auc_score(y_val, y_pred)"
   ]
  },
  {
   "cell_type": "code",
   "execution_count": 344,
   "metadata": {},
   "outputs": [
    {
     "name": "stderr",
     "output_type": "stream",
     "text": [
      "100%|██████████| 20/20 [00:06<00:00,  3.25it/s]\n"
     ]
    }
   ],
   "source": [
    "#@ TRAINING THE RANDOM FOREST MODEL:\n",
    "scores = []\n",
    "\n",
    "for n in tqdm(range(10, 201, 10)):\n",
    "    rf = RandomForestClassifier(n_estimators=n, random_state=1, n_jobs=-1)\n",
    "    rf.fit(X_train, y_train)\n",
    "    \n",
    "    y_pred = rf.predict(X_val)\n",
    "    score = accuracy_score(y_val, y_pred)\n",
    "    \n",
    "    scores.append((n, score))\n",
    "\n",
    "df_scores = pd.DataFrame(scores, columns=['n_estimators', 'accuracy'])"
   ]
  },
  {
   "cell_type": "code",
   "execution_count": 345,
   "metadata": {},
   "outputs": [
    {
     "data": {
      "image/png": "[encoded data removed]",
      "text/plain": [
       "<Figure size 640x480 with 1 Axes>"
      ]
     },
     "metadata": {},
     "output_type": "display_data"
    }
   ],
   "source": [
    "#@ INSPECTING THE ACCURACY SCORES:\n",
    "plt.plot(df_scores.n_estimators, df_scores.accuracy.round(3))\n",
    "plt.show()"
   ]
  },
  {
   "cell_type": "code",
   "execution_count": 346,
   "metadata": {},
   "outputs": [
    {
     "name": "stderr",
     "output_type": "stream",
     "text": [
      "100%|██████████| 20/20 [00:01<00:00, 16.02it/s]\n",
      "100%|██████████| 20/20 [00:01<00:00, 14.50it/s]\n",
      "100%|██████████| 20/20 [00:01<00:00, 14.19it/s]\n",
      "100%|██████████| 20/20 [00:01<00:00, 13.24it/s]\n",
      "100%|██████████| 20/20 [00:01<00:00, 13.79it/s]\n",
      "100%|██████████| 5/5 [00:07<00:00,  1.40s/it]\n"
     ]
    }
   ],
   "source": [
    "#@ TRAINING THE MODEL WITH DEPTH:\n",
    "scores = []\n",
    "\n",
    "for d in tqdm([5, 10, 15, 20, 25]):\n",
    "    rf = RandomForestClassifier(n_estimators=0,\n",
    "                               max_depth=d,\n",
    "                               random_state=1,\n",
    "                               n_jobs=-1,\n",
    "                               warm_start=True)\n",
    "\n",
    "    for n in tqdm(range(10, 201, 10)):\n",
    "        rf.n_estimators = n\n",
    "        rf.fit(X_train, y_train)\n",
    "\n",
    "        y_pred = rf.predict(X_val)\n",
    "        score = accuracy_score(y_val, y_pred)\n",
    "\n",
    "        scores.append((d, n, score))\n",
    "\n",
    "columns = ['max_depth', 'n_estimators', 'accuracy']\n",
    "df_scores = pd.DataFrame(scores, columns=columns)"
   ]
  },
  {
   "cell_type": "code",
   "execution_count": 347,
   "metadata": {},
   "outputs": [
    {
     "data": {
      "text/plain": [
       "array([ 5, 10, 15, 20, 25])"
      ]
     },
     "execution_count": 347,
     "metadata": {},
     "output_type": "execute_result"
    }
   ],
   "source": [
    "df_scores.max_depth.unique()"
   ]
  },
  {
   "cell_type": "code",
   "execution_count": 348,
   "metadata": {},
   "outputs": [
    {
     "data": {
      "text/html": [
       "<div>\n",
       "<style scoped>\n",
       "    .dataframe tbody tr th:only-of-type {\n",
       "        vertical-align: middle;\n",
       "    }\n",
       "\n",
       "    .dataframe tbody tr th {\n",
       "        vertical-align: top;\n",
       "    }\n",
       "\n",
       "    .dataframe thead th {\n",
       "        text-align: right;\n",
       "    }\n",
       "</style>\n",
       "<table border=\"1\" class=\"dataframe\">\n",
       "  <thead>\n",
       "    <tr style=\"text-align: right;\">\n",
       "      <th></th>\n",
       "      <th>max_depth</th>\n",
       "      <th>n_estimators</th>\n",
       "      <th>accuracy</th>\n",
       "    </tr>\n",
       "  </thead>\n",
       "  <tbody>\n",
       "    <tr>\n",
       "      <th>42</th>\n",
       "      <td>15</td>\n",
       "      <td>30</td>\n",
       "      <td>0.953229</td>\n",
       "    </tr>\n",
       "    <tr>\n",
       "      <th>82</th>\n",
       "      <td>25</td>\n",
       "      <td>30</td>\n",
       "      <td>0.953229</td>\n",
       "    </tr>\n",
       "    <tr>\n",
       "      <th>62</th>\n",
       "      <td>20</td>\n",
       "      <td>30</td>\n",
       "      <td>0.953229</td>\n",
       "    </tr>\n",
       "    <tr>\n",
       "      <th>22</th>\n",
       "      <td>10</td>\n",
       "      <td>30</td>\n",
       "      <td>0.948775</td>\n",
       "    </tr>\n",
       "    <tr>\n",
       "      <th>92</th>\n",
       "      <td>25</td>\n",
       "      <td>130</td>\n",
       "      <td>0.948775</td>\n",
       "    </tr>\n",
       "  </tbody>\n",
       "</table>\n",
       "</div>"
      ],
      "text/plain": [
       "    max_depth  n_estimators  accuracy\n",
       "42         15            30  0.953229\n",
       "82         25            30  0.953229\n",
       "62         20            30  0.953229\n",
       "22         10            30  0.948775\n",
       "92         25           130  0.948775"
      ]
     },
     "execution_count": 348,
     "metadata": {},
     "output_type": "execute_result"
    }
   ],
   "source": [
    "df_scores.sort_values('accuracy', ascending=False).head()"
   ]
  },
  {
   "cell_type": "code",
   "execution_count": 379,
   "metadata": {},
   "outputs": [
    {
     "ename": "AttributeError",
     "evalue": "'DataFrame' object has no attribute 'max_depth'",
     "output_type": "error",
     "traceback": [
      "\u001b[0;31m---------------------------------------------------------------------------\u001b[0m",
      "\u001b[0;31mAttributeError\u001b[0m                            Traceback (most recent call last)",
      "\u001b[0;32m/tmp/ipykernel_53078/4000088645.py\u001b[0m in \u001b[0;36m?\u001b[0;34m()\u001b[0m\n\u001b[1;32m      2\u001b[0m \u001b[0;31m#@ PLOTTING THE GRAPH:\u001b[0m\u001b[0;34m\u001b[0m\u001b[0;34m\u001b[0m\u001b[0m\n\u001b[0;32m----> 3\u001b[0;31m \u001b[0;32mfor\u001b[0m \u001b[0md\u001b[0m \u001b[0;32min\u001b[0m \u001b[0;34m[\u001b[0m\u001b[0;36m5\u001b[0m\u001b[0;34m,\u001b[0m \u001b[0;36m10\u001b[0m\u001b[0;34m,\u001b[0m \u001b[0;36m15\u001b[0m\u001b[0;34m,\u001b[0m \u001b[0;36m20\u001b[0m\u001b[0;34m,\u001b[0m \u001b[0;36m25\u001b[0m\u001b[0;34m]\u001b[0m\u001b[0;34m:\u001b[0m\u001b[0;34m\u001b[0m\u001b[0;34m\u001b[0m\u001b[0m\n\u001b[0m\u001b[1;32m      4\u001b[0m     \u001b[0mdf_subset\u001b[0m \u001b[0;34m=\u001b[0m \u001b[0mdf_scores\u001b[0m\u001b[0;34m[\u001b[0m\u001b[0mdf_scores\u001b[0m\u001b[0;34m.\u001b[0m\u001b[0mmax_depth\u001b[0m \u001b[0;34m==\u001b[0m \u001b[0md\u001b[0m\u001b[0;34m]\u001b[0m\u001b[0;34m\u001b[0m\u001b[0;34m\u001b[0m\u001b[0m\n\u001b[1;32m      5\u001b[0m     \u001b[0mprint\u001b[0m\u001b[0;34m(\u001b[0m\u001b[0mdf_subset\u001b[0m\u001b[0;34m)\u001b[0m\u001b[0;34m\u001b[0m\u001b[0;34m\u001b[0m\u001b[0m\n\u001b[1;32m      6\u001b[0m     \u001b[0mplt\u001b[0m\u001b[0;34m.\u001b[0m\u001b[0mplot\u001b[0m\u001b[0;34m(\u001b[0m\u001b[0mdf_subset\u001b[0m\u001b[0;34m.\u001b[0m\u001b[0mn_estimators\u001b[0m\u001b[0;34m,\u001b[0m \u001b[0mdf_subset\u001b[0m\u001b[0;34m.\u001b[0m\u001b[0maccuracy\u001b[0m\u001b[0;34m,\u001b[0m \u001b[0mlabel\u001b[0m\u001b[0;34m=\u001b[0m\u001b[0md\u001b[0m\u001b[0;34m)\u001b[0m\u001b[0;34m\u001b[0m\u001b[0;34m\u001b[0m\u001b[0m\n",
      "\u001b[0;32m~/miniconda3/envs/ml-zoomcamp/lib/python3.9/site-packages/pandas/core/generic.py\u001b[0m in \u001b[0;36m?\u001b[0;34m(self, name)\u001b[0m\n\u001b[1;32m   6198\u001b[0m             \u001b[0;32mand\u001b[0m \u001b[0mname\u001b[0m \u001b[0;32mnot\u001b[0m \u001b[0;32min\u001b[0m \u001b[0mself\u001b[0m\u001b[0;34m.\u001b[0m\u001b[0m_accessors\u001b[0m\u001b[0;34m\u001b[0m\u001b[0;34m\u001b[0m\u001b[0m\n\u001b[1;32m   6199\u001b[0m             \u001b[0;32mand\u001b[0m \u001b[0mself\u001b[0m\u001b[0;34m.\u001b[0m\u001b[0m_info_axis\u001b[0m\u001b[0;34m.\u001b[0m\u001b[0m_can_hold_identifiers_and_holds_name\u001b[0m\u001b[0;34m(\u001b[0m\u001b[0mname\u001b[0m\u001b[0;34m)\u001b[0m\u001b[0;34m\u001b[0m\u001b[0;34m\u001b[0m\u001b[0m\n\u001b[1;32m   6200\u001b[0m         ):\n\u001b[1;32m   6201\u001b[0m             \u001b[0;32mreturn\u001b[0m \u001b[0mself\u001b[0m\u001b[0;34m[\u001b[0m\u001b[0mname\u001b[0m\u001b[0;34m]\u001b[0m\u001b[0;34m\u001b[0m\u001b[0;34m\u001b[0m\u001b[0m\n\u001b[0;32m-> 6202\u001b[0;31m         \u001b[0;32mreturn\u001b[0m \u001b[0mobject\u001b[0m\u001b[0;34m.\u001b[0m\u001b[0m__getattribute__\u001b[0m\u001b[0;34m(\u001b[0m\u001b[0mself\u001b[0m\u001b[0;34m,\u001b[0m \u001b[0mname\u001b[0m\u001b[0;34m)\u001b[0m\u001b[0;34m\u001b[0m\u001b[0;34m\u001b[0m\u001b[0m\n\u001b[0m",
      "\u001b[0;31mAttributeError\u001b[0m: 'DataFrame' object has no attribute 'max_depth'"
     ]
    }
   ],
   "source": [
    "#@ PLOTTING THE GRAPH:\n",
    "for d in [5, 10, 15, 20, 25]:\n",
    "    df_subset = df_scores[df_scores.max_depth == d]\n",
    "    print(df_subset)\n",
    "    plt.plot(df_subset.n_estimators, df_subset.accuracy, label=d)\n",
    "\n",
    "plt.legend()\n",
    "plt.show()"
   ]
  },
  {
   "cell_type": "code",
   "execution_count": 350,
   "metadata": {},
   "outputs": [
    {
     "data": {
      "text/html": [
       "<style>#sk-container-id-19 {color: black;}#sk-container-id-19 pre{padding: 0;}#sk-container-id-19 div.sk-toggleable {background-color: white;}#sk-container-id-19 label.sk-toggleable__label {cursor: pointer;display: block;width: 100%;margin-bottom: 0;padding: 0.3em;box-sizing: border-box;text-align: center;}#sk-container-id-19 label.sk-toggleable__label-arrow:before {content: \"▸\";float: left;margin-right: 0.25em;color: #696969;}#sk-container-id-19 label.sk-toggleable__label-arrow:hover:before {color: black;}#sk-container-id-19 div.sk-estimator:hover label.sk-toggleable__label-arrow:before {color: black;}#sk-container-id-19 div.sk-toggleable__content {max-height: 0;max-width: 0;overflow: hidden;text-align: left;background-color: #f0f8ff;}#sk-container-id-19 div.sk-toggleable__content pre {margin: 0.2em;color: black;border-radius: 0.25em;background-color: #f0f8ff;}#sk-container-id-19 input.sk-toggleable__control:checked~div.sk-toggleable__content {max-height: 200px;max-width: 100%;overflow: auto;}#sk-container-id-19 input.sk-toggleable__control:checked~label.sk-toggleable__label-arrow:before {content: \"▾\";}#sk-container-id-19 div.sk-estimator input.sk-toggleable__control:checked~label.sk-toggleable__label {background-color: #d4ebff;}#sk-container-id-19 div.sk-label input.sk-toggleable__control:checked~label.sk-toggleable__label {background-color: #d4ebff;}#sk-container-id-19 input.sk-hidden--visually {border: 0;clip: rect(1px 1px 1px 1px);clip: rect(1px, 1px, 1px, 1px);height: 1px;margin: -1px;overflow: hidden;padding: 0;position: absolute;width: 1px;}#sk-container-id-19 div.sk-estimator {font-family: monospace;background-color: #f0f8ff;border: 1px dotted black;border-radius: 0.25em;box-sizing: border-box;margin-bottom: 0.5em;}#sk-container-id-19 div.sk-estimator:hover {background-color: #d4ebff;}#sk-container-id-19 div.sk-parallel-item::after {content: \"\";width: 100%;border-bottom: 1px solid gray;flex-grow: 1;}#sk-container-id-19 div.sk-label:hover label.sk-toggleable__label {background-color: #d4ebff;}#sk-container-id-19 div.sk-serial::before {content: \"\";position: absolute;border-left: 1px solid gray;box-sizing: border-box;top: 0;bottom: 0;left: 50%;z-index: 0;}#sk-container-id-19 div.sk-serial {display: flex;flex-direction: column;align-items: center;background-color: white;padding-right: 0.2em;padding-left: 0.2em;position: relative;}#sk-container-id-19 div.sk-item {position: relative;z-index: 1;}#sk-container-id-19 div.sk-parallel {display: flex;align-items: stretch;justify-content: center;background-color: white;position: relative;}#sk-container-id-19 div.sk-item::before, #sk-container-id-19 div.sk-parallel-item::before {content: \"\";position: absolute;border-left: 1px solid gray;box-sizing: border-box;top: 0;bottom: 0;left: 50%;z-index: -1;}#sk-container-id-19 div.sk-parallel-item {display: flex;flex-direction: column;z-index: 1;position: relative;background-color: white;}#sk-container-id-19 div.sk-parallel-item:first-child::after {align-self: flex-end;width: 50%;}#sk-container-id-19 div.sk-parallel-item:last-child::after {align-self: flex-start;width: 50%;}#sk-container-id-19 div.sk-parallel-item:only-child::after {width: 0;}#sk-container-id-19 div.sk-dashed-wrapped {border: 1px dashed gray;margin: 0 0.4em 0.5em 0.4em;box-sizing: border-box;padding-bottom: 0.4em;background-color: white;}#sk-container-id-19 div.sk-label label {font-family: monospace;font-weight: bold;display: inline-block;line-height: 1.2em;}#sk-container-id-19 div.sk-label-container {text-align: center;}#sk-container-id-19 div.sk-container {/* jupyter's `normalize.less` sets `[hidden] { display: none; }` but bootstrap.min.css set `[hidden] { display: none !important; }` so we also need the `!important` here to be able to override the default hidden behavior on the sphinx rendered scikit-learn.org. See: https://github.com/scikit-learn/scikit-learn/issues/21755 */display: inline-block !important;position: relative;}#sk-container-id-19 div.sk-text-repr-fallback {display: none;}</style><div id=\"sk-container-id-19\" class=\"sk-top-container\"><div class=\"sk-text-repr-fallback\"><pre>RandomForestClassifier(max_depth=10, n_estimators=20, n_jobs=-1, random_state=1)</pre><b>In a Jupyter environment, please rerun this cell to show the HTML representation or trust the notebook. <br />On GitHub, the HTML representation is unable to render, please try loading this page with nbviewer.org.</b></div><div class=\"sk-container\" hidden><div class=\"sk-item\"><div class=\"sk-estimator sk-toggleable\"><input class=\"sk-toggleable__control sk-hidden--visually\" id=\"sk-estimator-id-19\" type=\"checkbox\" checked><label for=\"sk-estimator-id-19\" class=\"sk-toggleable__label sk-toggleable__label-arrow\">RandomForestClassifier</label><div class=\"sk-toggleable__content\"><pre>RandomForestClassifier(max_depth=10, n_estimators=20, n_jobs=-1, random_state=1)</pre></div></div></div></div></div>"
      ],
      "text/plain": [
       "RandomForestClassifier(max_depth=10, n_estimators=20, n_jobs=-1, random_state=1)"
      ]
     },
     "execution_count": 350,
     "metadata": {},
     "output_type": "execute_result"
    }
   ],
   "source": [
    "#@ TRAINING THE RANDOM FOREST MODEL:\n",
    "rf = RandomForestClassifier(n_estimators=20, max_depth=10, \n",
    "                           random_state=1, n_jobs=-1)\n",
    "rf.fit(X_train, y_train)\n",
    "     "
   ]
  },
  {
   "cell_type": "code",
   "execution_count": 351,
   "metadata": {},
   "outputs": [
    {
     "name": "stdout",
     "output_type": "stream",
     "text": [
      "0.9309576837416481\n"
     ]
    }
   ],
   "source": [
    "y_pred = rf.predict(X_val)\n",
    "acc = accuracy_score(y_val, y_pred)\n",
    "print(acc)"
   ]
  },
  {
   "cell_type": "code",
   "execution_count": 352,
   "metadata": {},
   "outputs": [
    {
     "data": {
      "text/plain": [
       "0.9305240087666866"
      ]
     },
     "execution_count": 352,
     "metadata": {},
     "output_type": "execute_result"
    }
   ],
   "source": [
    "roc_auc_score(y_val, y_pred)"
   ]
  },
  {
   "cell_type": "code",
   "execution_count": 353,
   "metadata": {},
   "outputs": [
    {
     "data": {
      "text/plain": [
       "array([0.02050573, 0.02198983, 0.02588956, 0.06346473, 0.02003587,\n",
       "       0.01577452, 0.01747713, 0.01461506, 0.01548236, 0.09951968,\n",
       "       0.02811305, 0.03295818, 0.11849603, 0.03012202, 0.09221831,\n",
       "       0.3323671 , 0.05097086])"
      ]
     },
     "execution_count": 353,
     "metadata": {},
     "output_type": "execute_result"
    }
   ],
   "source": [
    "#@ INSPECTING FEATURE IMPORTANCE:\n",
    "rf.feature_importances_"
   ]
  },
  {
   "cell_type": "code",
   "execution_count": 354,
   "metadata": {},
   "outputs": [
    {
     "data": {
      "text/html": [
       "<div>\n",
       "<style scoped>\n",
       "    .dataframe tbody tr th:only-of-type {\n",
       "        vertical-align: middle;\n",
       "    }\n",
       "\n",
       "    .dataframe tbody tr th {\n",
       "        vertical-align: top;\n",
       "    }\n",
       "\n",
       "    .dataframe thead th {\n",
       "        text-align: right;\n",
       "    }\n",
       "</style>\n",
       "<table border=\"1\" class=\"dataframe\">\n",
       "  <thead>\n",
       "    <tr style=\"text-align: right;\">\n",
       "      <th></th>\n",
       "      <th>feature</th>\n",
       "      <th>importance</th>\n",
       "    </tr>\n",
       "  </thead>\n",
       "  <tbody>\n",
       "    <tr>\n",
       "      <th>0</th>\n",
       "      <td>%D14</td>\n",
       "      <td>0.020506</td>\n",
       "    </tr>\n",
       "    <tr>\n",
       "      <th>1</th>\n",
       "      <td>%D7</td>\n",
       "      <td>0.021990</td>\n",
       "    </tr>\n",
       "    <tr>\n",
       "      <th>2</th>\n",
       "      <td>%K14</td>\n",
       "      <td>0.025890</td>\n",
       "    </tr>\n",
       "    <tr>\n",
       "      <th>3</th>\n",
       "      <td>%K30</td>\n",
       "      <td>0.063465</td>\n",
       "    </tr>\n",
       "    <tr>\n",
       "      <th>4</th>\n",
       "      <td>%K7</td>\n",
       "      <td>0.020036</td>\n",
       "    </tr>\n",
       "    <tr>\n",
       "      <th>5</th>\n",
       "      <td>EMA14</td>\n",
       "      <td>0.015775</td>\n",
       "    </tr>\n",
       "    <tr>\n",
       "      <th>6</th>\n",
       "      <td>EMA30</td>\n",
       "      <td>0.017477</td>\n",
       "    </tr>\n",
       "    <tr>\n",
       "      <th>7</th>\n",
       "      <td>EMA7</td>\n",
       "      <td>0.014615</td>\n",
       "    </tr>\n",
       "    <tr>\n",
       "      <th>8</th>\n",
       "      <td>MOM14</td>\n",
       "      <td>0.015482</td>\n",
       "    </tr>\n",
       "    <tr>\n",
       "      <th>9</th>\n",
       "      <td>MOM30</td>\n",
       "      <td>0.099520</td>\n",
       "    </tr>\n",
       "    <tr>\n",
       "      <th>10</th>\n",
       "      <td>MOM7</td>\n",
       "      <td>0.028113</td>\n",
       "    </tr>\n",
       "    <tr>\n",
       "      <th>11</th>\n",
       "      <td>ROC14</td>\n",
       "      <td>0.032958</td>\n",
       "    </tr>\n",
       "    <tr>\n",
       "      <th>12</th>\n",
       "      <td>ROC30</td>\n",
       "      <td>0.118496</td>\n",
       "    </tr>\n",
       "    <tr>\n",
       "      <th>13</th>\n",
       "      <td>ROC7</td>\n",
       "      <td>0.030122</td>\n",
       "    </tr>\n",
       "    <tr>\n",
       "      <th>14</th>\n",
       "      <td>RSI14</td>\n",
       "      <td>0.092218</td>\n",
       "    </tr>\n",
       "    <tr>\n",
       "      <th>15</th>\n",
       "      <td>RSI30</td>\n",
       "      <td>0.332367</td>\n",
       "    </tr>\n",
       "    <tr>\n",
       "      <th>16</th>\n",
       "      <td>RSI7</td>\n",
       "      <td>0.050971</td>\n",
       "    </tr>\n",
       "  </tbody>\n",
       "</table>\n",
       "</div>"
      ],
      "text/plain": [
       "   feature  importance\n",
       "0     %D14    0.020506\n",
       "1      %D7    0.021990\n",
       "2     %K14    0.025890\n",
       "3     %K30    0.063465\n",
       "4      %K7    0.020036\n",
       "5    EMA14    0.015775\n",
       "6    EMA30    0.017477\n",
       "7     EMA7    0.014615\n",
       "8    MOM14    0.015482\n",
       "9    MOM30    0.099520\n",
       "10    MOM7    0.028113\n",
       "11   ROC14    0.032958\n",
       "12   ROC30    0.118496\n",
       "13    ROC7    0.030122\n",
       "14   RSI14    0.092218\n",
       "15   RSI30    0.332367\n",
       "16    RSI7    0.050971"
      ]
     },
     "execution_count": 354,
     "metadata": {},
     "output_type": "execute_result"
    }
   ],
   "source": [
    "#@ INSPECTING FEATURE IMPORTANCES:\n",
    "df_importances = pd.DataFrame()\n",
    "df_importances['feature'] = dv.feature_names_\n",
    "df_importances['importance'] = rf.feature_importances_\n",
    "df_importances"
   ]
  },
  {
   "cell_type": "code",
   "execution_count": 355,
   "metadata": {},
   "outputs": [
    {
     "data": {
      "text/html": [
       "<div>\n",
       "<style scoped>\n",
       "    .dataframe tbody tr th:only-of-type {\n",
       "        vertical-align: middle;\n",
       "    }\n",
       "\n",
       "    .dataframe tbody tr th {\n",
       "        vertical-align: top;\n",
       "    }\n",
       "\n",
       "    .dataframe thead th {\n",
       "        text-align: right;\n",
       "    }\n",
       "</style>\n",
       "<table border=\"1\" class=\"dataframe\">\n",
       "  <thead>\n",
       "    <tr style=\"text-align: right;\">\n",
       "      <th></th>\n",
       "      <th>feature</th>\n",
       "      <th>importance</th>\n",
       "    </tr>\n",
       "  </thead>\n",
       "  <tbody>\n",
       "    <tr>\n",
       "      <th>15</th>\n",
       "      <td>RSI30</td>\n",
       "      <td>0.332367</td>\n",
       "    </tr>\n",
       "    <tr>\n",
       "      <th>12</th>\n",
       "      <td>ROC30</td>\n",
       "      <td>0.118496</td>\n",
       "    </tr>\n",
       "    <tr>\n",
       "      <th>9</th>\n",
       "      <td>MOM30</td>\n",
       "      <td>0.099520</td>\n",
       "    </tr>\n",
       "    <tr>\n",
       "      <th>14</th>\n",
       "      <td>RSI14</td>\n",
       "      <td>0.092218</td>\n",
       "    </tr>\n",
       "    <tr>\n",
       "      <th>3</th>\n",
       "      <td>%K30</td>\n",
       "      <td>0.063465</td>\n",
       "    </tr>\n",
       "  </tbody>\n",
       "</table>\n",
       "</div>"
      ],
      "text/plain": [
       "   feature  importance\n",
       "15   RSI30    0.332367\n",
       "12   ROC30    0.118496\n",
       "9    MOM30    0.099520\n",
       "14   RSI14    0.092218\n",
       "3     %K30    0.063465"
      ]
     },
     "execution_count": 355,
     "metadata": {},
     "output_type": "execute_result"
    }
   ],
   "source": [
    "#@ SORTING THE VALUES:\n",
    "df_importances.sort_values(by='importance', ascending=False).head()"
   ]
  },
  {
   "cell_type": "markdown",
   "metadata": {},
   "source": [
    "#### XGBoot"
   ]
  },
  {
   "cell_type": "code",
   "execution_count": 357,
   "metadata": {},
   "outputs": [],
   "source": [
    "#@ CREATING THE DMARTIX:\n",
    "features = dv.feature_names_\n",
    "\n",
    "regex = re.compile(r\"<\", re.IGNORECASE)\n",
    "features = [regex.sub(\"_\", col) if any(x in str(col) for x in set(('[', ']', '<'))) else col for col in features]\n",
    "\n",
    "dtrain = xgb.DMatrix(X_train, label=y_train, feature_names=features)\n",
    "dval = xgb.DMatrix(X_val, label=y_val, feature_names=features)"
   ]
  },
  {
   "cell_type": "code",
   "execution_count": 358,
   "metadata": {},
   "outputs": [],
   "source": [
    "#@ INITIALIZATION:\n",
    "watchlist = [(dtrain, 'train'), (dval, 'val')]\n",
    "scores = {}"
   ]
  },
  {
   "cell_type": "code",
   "execution_count": 359,
   "metadata": {},
   "outputs": [],
   "source": [
    "%%capture output\n",
    "\n",
    "xgb_params = {\n",
    "    'eta': 0.3, \n",
    "    'max_depth': 10,\n",
    "    'min_child_weight': 2,\n",
    "\n",
    "    'objective': 'binary:logistic',\n",
    "    'eval_metric': 'auc',\n",
    "    \n",
    "    'nthread': 8,\n",
    "    'seed': 1,\n",
    "    'verbosity': 1,\n",
    "}\n",
    "\n",
    "model = xgb.train(xgb_params, dtrain, num_boost_round=100,\n",
    "                  verbose_eval=1, evals=watchlist)"
   ]
  },
  {
   "cell_type": "code",
   "execution_count": 360,
   "metadata": {},
   "outputs": [
    {
     "data": {
      "text/plain": [
       "0.9883841402669855"
      ]
     },
     "execution_count": 360,
     "metadata": {},
     "output_type": "execute_result"
    }
   ],
   "source": [
    "y_pred = model.predict(dval)\n",
    "roc_auc_score(y_val, y_pred)"
   ]
  },
  {
   "cell_type": "code",
   "execution_count": 361,
   "metadata": {},
   "outputs": [
    {
     "name": "stdout",
     "output_type": "stream",
     "text": [
      "[0]\ttrain-auc:0.98558\tval-auc:0.95875\n",
      "[1]\ttrain-auc:0.98918\tval-auc:0.96721\n",
      "[2]\ttrain-auc:0.99543\tval-auc:0.96884\n",
      "[3]\ttrain-auc:0.99732\tval-auc:0.97369\n",
      "[4]\ttrain-auc:0.99793\tval-auc:0.97617\n",
      "[5]\ttrain-auc:0.99838\tval-auc:0.97711\n",
      "[6]\ttrain-auc:0.99880\tval-auc:0.97881\n",
      "[7]\ttrain-auc:0.99915\tval-auc:0.97990\n",
      "[8]\ttrain-auc:0.99928\tval-auc:0.98045\n",
      "[9]\ttrain-auc:0.99934\tval-auc:0.98085\n",
      "[10]\ttrain-auc:0.99945\tval-auc:0.98100\n",
      "[11]\ttrain-auc:0.99949\tval-auc:0.98186\n",
      "[12]\ttrain-auc:0.99952\tval-auc:0.98224\n",
      "[13]\ttrain-auc:0.99967\tval-auc:0.98412\n",
      "[14]\ttrain-auc:0.99977\tval-auc:0.98414\n",
      "[15]\ttrain-auc:0.99984\tval-auc:0.98573\n",
      "[16]\ttrain-auc:0.99986\tval-auc:0.98571\n",
      "[17]\ttrain-auc:0.99987\tval-auc:0.98561\n",
      "[18]\ttrain-auc:0.99987\tval-auc:0.98591\n",
      "[19]\ttrain-auc:0.99990\tval-auc:0.98617\n",
      "[20]\ttrain-auc:0.99989\tval-auc:0.98633\n",
      "[21]\ttrain-auc:0.99990\tval-auc:0.98671\n",
      "[22]\ttrain-auc:0.99992\tval-auc:0.98675\n",
      "[23]\ttrain-auc:0.99993\tval-auc:0.98681\n",
      "[24]\ttrain-auc:0.99995\tval-auc:0.98643\n",
      "[25]\ttrain-auc:0.99996\tval-auc:0.98667\n",
      "[26]\ttrain-auc:0.99996\tval-auc:0.98649\n",
      "[27]\ttrain-auc:0.99998\tval-auc:0.98657\n",
      "[28]\ttrain-auc:0.99998\tval-auc:0.98687\n",
      "[29]\ttrain-auc:0.99998\tval-auc:0.98693\n",
      "[30]\ttrain-auc:0.99999\tval-auc:0.98715\n",
      "[31]\ttrain-auc:0.99999\tval-auc:0.98719\n",
      "[32]\ttrain-auc:0.99999\tval-auc:0.98757\n",
      "[33]\ttrain-auc:0.99999\tval-auc:0.98747\n",
      "[34]\ttrain-auc:1.00000\tval-auc:0.98741\n",
      "[35]\ttrain-auc:1.00000\tval-auc:0.98759\n",
      "[36]\ttrain-auc:1.00000\tval-auc:0.98771\n",
      "[37]\ttrain-auc:1.00000\tval-auc:0.98793\n",
      "[38]\ttrain-auc:1.00000\tval-auc:0.98801\n",
      "[39]\ttrain-auc:1.00000\tval-auc:0.98799\n",
      "[40]\ttrain-auc:1.00000\tval-auc:0.98795\n",
      "[41]\ttrain-auc:1.00000\tval-auc:0.98815\n",
      "[42]\ttrain-auc:1.00000\tval-auc:0.98816\n",
      "[43]\ttrain-auc:1.00000\tval-auc:0.98799\n",
      "[44]\ttrain-auc:1.00000\tval-auc:0.98815\n",
      "[45]\ttrain-auc:1.00000\tval-auc:0.98842\n",
      "[46]\ttrain-auc:1.00000\tval-auc:0.98838\n",
      "[47]\ttrain-auc:1.00000\tval-auc:0.98826\n",
      "[48]\ttrain-auc:1.00000\tval-auc:0.98826\n",
      "[49]\ttrain-auc:1.00000\tval-auc:0.98838\n",
      "[50]\ttrain-auc:1.00000\tval-auc:0.98848\n",
      "[51]\ttrain-auc:1.00000\tval-auc:0.98842\n",
      "[52]\ttrain-auc:1.00000\tval-auc:0.98856\n",
      "[53]\ttrain-auc:1.00000\tval-auc:0.98860\n",
      "[54]\ttrain-auc:1.00000\tval-auc:0.98864\n",
      "[55]\ttrain-auc:1.00000\tval-auc:0.98874\n",
      "[56]\ttrain-auc:1.00000\tval-auc:0.98844\n",
      "[57]\ttrain-auc:1.00000\tval-auc:0.98830\n",
      "[58]\ttrain-auc:1.00000\tval-auc:0.98834\n",
      "[59]\ttrain-auc:1.00000\tval-auc:0.98830\n",
      "[60]\ttrain-auc:1.00000\tval-auc:0.98830\n",
      "[61]\ttrain-auc:1.00000\tval-auc:0.98822\n",
      "[62]\ttrain-auc:1.00000\tval-auc:0.98822\n",
      "[63]\ttrain-auc:1.00000\tval-auc:0.98834\n",
      "[64]\ttrain-auc:1.00000\tval-auc:0.98828\n",
      "[65]\ttrain-auc:1.00000\tval-auc:0.98830\n",
      "[66]\ttrain-auc:1.00000\tval-auc:0.98830\n",
      "[67]\ttrain-auc:1.00000\tval-auc:0.98836\n",
      "[68]\ttrain-auc:1.00000\tval-auc:0.98840\n",
      "[69]\ttrain-auc:1.00000\tval-auc:0.98842\n",
      "[70]\ttrain-auc:1.00000\tval-auc:0.98842\n",
      "[71]\ttrain-auc:1.00000\tval-auc:0.98844\n",
      "[72]\ttrain-auc:1.00000\tval-auc:0.98850\n",
      "[73]\ttrain-auc:1.00000\tval-auc:0.98844\n",
      "[74]\ttrain-auc:1.00000\tval-auc:0.98836\n",
      "[75]\ttrain-auc:1.00000\tval-auc:0.98842\n",
      "[76]\ttrain-auc:1.00000\tval-auc:0.98832\n",
      "[77]\ttrain-auc:1.00000\tval-auc:0.98842\n",
      "[78]\ttrain-auc:1.00000\tval-auc:0.98834\n",
      "[79]\ttrain-auc:1.00000\tval-auc:0.98842\n",
      "[80]\ttrain-auc:1.00000\tval-auc:0.98838\n",
      "[81]\ttrain-auc:1.00000\tval-auc:0.98844\n",
      "[82]\ttrain-auc:1.00000\tval-auc:0.98846\n",
      "[83]\ttrain-auc:1.00000\tval-auc:0.98838\n",
      "[84]\ttrain-auc:1.00000\tval-auc:0.98832\n",
      "[85]\ttrain-auc:1.00000\tval-auc:0.98838\n",
      "[86]\ttrain-auc:1.00000\tval-auc:0.98840\n",
      "[87]\ttrain-auc:1.00000\tval-auc:0.98850\n",
      "[88]\ttrain-auc:1.00000\tval-auc:0.98850\n",
      "[89]\ttrain-auc:1.00000\tval-auc:0.98844\n",
      "[90]\ttrain-auc:1.00000\tval-auc:0.98838\n",
      "[91]\ttrain-auc:1.00000\tval-auc:0.98836\n",
      "[92]\ttrain-auc:1.00000\tval-auc:0.98852\n",
      "[93]\ttrain-auc:1.00000\tval-auc:0.98856\n",
      "[94]\ttrain-auc:1.00000\tval-auc:0.98830\n",
      "[95]\ttrain-auc:1.00000\tval-auc:0.98838\n",
      "[96]\ttrain-auc:1.00000\tval-auc:0.98826\n",
      "[97]\ttrain-auc:1.00000\tval-auc:0.98834\n",
      "[98]\ttrain-auc:1.00000\tval-auc:0.98846\n",
      "[99]\ttrain-auc:1.00000\tval-auc:0.98838\n",
      "\n"
     ]
    }
   ],
   "source": [
    "print(output.stdout)"
   ]
  },
  {
   "cell_type": "code",
   "execution_count": 362,
   "metadata": {},
   "outputs": [],
   "source": [
    "#@ DEFINING THE FUNCTION:\n",
    "def parse_xgb_output(output):\n",
    "    results = []\n",
    "\n",
    "    for line in output.stdout.strip().split('\\n'):\n",
    "        it_line, train_line, val_line = line.split('\\t')\n",
    "\n",
    "        it = int(it_line.strip('[]'))\n",
    "        train = float(train_line.split(':')[1])\n",
    "        val = float(val_line.split(':')[1])\n",
    "\n",
    "        results.append((it, train, val))\n",
    "    \n",
    "    columns = ['num_iter', 'train_auc', 'val_auc']\n",
    "    df_results = pd.DataFrame(results, columns=columns)\n",
    "    return df_results"
   ]
  },
  {
   "cell_type": "code",
   "execution_count": 363,
   "metadata": {},
   "outputs": [
    {
     "data": {
      "text/html": [
       "<div>\n",
       "<style scoped>\n",
       "    .dataframe tbody tr th:only-of-type {\n",
       "        vertical-align: middle;\n",
       "    }\n",
       "\n",
       "    .dataframe tbody tr th {\n",
       "        vertical-align: top;\n",
       "    }\n",
       "\n",
       "    .dataframe thead th {\n",
       "        text-align: right;\n",
       "    }\n",
       "</style>\n",
       "<table border=\"1\" class=\"dataframe\">\n",
       "  <thead>\n",
       "    <tr style=\"text-align: right;\">\n",
       "      <th></th>\n",
       "      <th>num_iter</th>\n",
       "      <th>train_auc</th>\n",
       "      <th>val_auc</th>\n",
       "    </tr>\n",
       "  </thead>\n",
       "  <tbody>\n",
       "    <tr>\n",
       "      <th>0</th>\n",
       "      <td>0</td>\n",
       "      <td>0.98558</td>\n",
       "      <td>0.95875</td>\n",
       "    </tr>\n",
       "    <tr>\n",
       "      <th>1</th>\n",
       "      <td>1</td>\n",
       "      <td>0.98918</td>\n",
       "      <td>0.96721</td>\n",
       "    </tr>\n",
       "    <tr>\n",
       "      <th>2</th>\n",
       "      <td>2</td>\n",
       "      <td>0.99543</td>\n",
       "      <td>0.96884</td>\n",
       "    </tr>\n",
       "    <tr>\n",
       "      <th>3</th>\n",
       "      <td>3</td>\n",
       "      <td>0.99732</td>\n",
       "      <td>0.97369</td>\n",
       "    </tr>\n",
       "    <tr>\n",
       "      <th>4</th>\n",
       "      <td>4</td>\n",
       "      <td>0.99793</td>\n",
       "      <td>0.97617</td>\n",
       "    </tr>\n",
       "    <tr>\n",
       "      <th>...</th>\n",
       "      <td>...</td>\n",
       "      <td>...</td>\n",
       "      <td>...</td>\n",
       "    </tr>\n",
       "    <tr>\n",
       "      <th>95</th>\n",
       "      <td>95</td>\n",
       "      <td>1.00000</td>\n",
       "      <td>0.98838</td>\n",
       "    </tr>\n",
       "    <tr>\n",
       "      <th>96</th>\n",
       "      <td>96</td>\n",
       "      <td>1.00000</td>\n",
       "      <td>0.98826</td>\n",
       "    </tr>\n",
       "    <tr>\n",
       "      <th>97</th>\n",
       "      <td>97</td>\n",
       "      <td>1.00000</td>\n",
       "      <td>0.98834</td>\n",
       "    </tr>\n",
       "    <tr>\n",
       "      <th>98</th>\n",
       "      <td>98</td>\n",
       "      <td>1.00000</td>\n",
       "      <td>0.98846</td>\n",
       "    </tr>\n",
       "    <tr>\n",
       "      <th>99</th>\n",
       "      <td>99</td>\n",
       "      <td>1.00000</td>\n",
       "      <td>0.98838</td>\n",
       "    </tr>\n",
       "  </tbody>\n",
       "</table>\n",
       "<p>100 rows × 3 columns</p>\n",
       "</div>"
      ],
      "text/plain": [
       "    num_iter  train_auc  val_auc\n",
       "0          0    0.98558  0.95875\n",
       "1          1    0.98918  0.96721\n",
       "2          2    0.99543  0.96884\n",
       "3          3    0.99732  0.97369\n",
       "4          4    0.99793  0.97617\n",
       "..       ...        ...      ...\n",
       "95        95    1.00000  0.98838\n",
       "96        96    1.00000  0.98826\n",
       "97        97    1.00000  0.98834\n",
       "98        98    1.00000  0.98846\n",
       "99        99    1.00000  0.98838\n",
       "\n",
       "[100 rows x 3 columns]"
      ]
     },
     "execution_count": 363,
     "metadata": {},
     "output_type": "execute_result"
    }
   ],
   "source": [
    "df_scores = parse_xgb_output(output)\n",
    "df_scores"
   ]
  },
  {
   "cell_type": "code",
   "execution_count": 364,
   "metadata": {},
   "outputs": [
    {
     "data": {
      "text/plain": [
       "<matplotlib.legend.Legend at 0x7f6753799700>"
      ]
     },
     "execution_count": 364,
     "metadata": {},
     "output_type": "execute_result"
    },
    {
     "data": {
      "image/png": "[encoded data removed]",
      "text/plain": [
       "<Figure size 640x480 with 1 Axes>"
      ]
     },
     "metadata": {},
     "output_type": "display_data"
    }
   ],
   "source": [
    "plt.plot(df_scores.num_iter, df_scores.train_auc, label='train')\n",
    "plt.plot(df_scores.num_iter, df_scores.val_auc, label='val')\n",
    "plt.legend()"
   ]
  },
  {
   "cell_type": "code",
   "execution_count": 365,
   "metadata": {},
   "outputs": [],
   "source": [
    "#@ STORING:\n",
    "scores['eta=0.3'] = parse_xgb_output(output)"
   ]
  },
  {
   "cell_type": "code",
   "execution_count": 366,
   "metadata": {},
   "outputs": [],
   "source": [
    "%%capture output\n",
    "\n",
    "xgb_params = {\n",
    "    'eta': 0.1, \n",
    "    'max_depth': 10,\n",
    "    'min_child_weight': 1,\n",
    "\n",
    "    'objective': 'binary:logistic',\n",
    "    'eval_metric': 'auc',\n",
    "    \n",
    "    'nthread': 8,\n",
    "    'seed': 1,\n",
    "    'verbosity': 1,\n",
    "}\n",
    "\n",
    "model = xgb.train(xgb_params, dtrain, num_boost_round=100,\n",
    "                  verbose_eval=1, evals=watchlist)"
   ]
  },
  {
   "cell_type": "code",
   "execution_count": 367,
   "metadata": {},
   "outputs": [
    {
     "data": {
      "text/plain": [
       "0.9868698944012751"
      ]
     },
     "execution_count": 367,
     "metadata": {},
     "output_type": "execute_result"
    }
   ],
   "source": [
    "y_pred = model.predict(dval)\n",
    "roc_auc_score(y_val, y_pred)"
   ]
  },
  {
   "cell_type": "code",
   "execution_count": 368,
   "metadata": {},
   "outputs": [],
   "source": [
    "#@ STORING:\n",
    "scores['eta=0.1'] = parse_xgb_output(output)"
   ]
  },
  {
   "cell_type": "code",
   "execution_count": 369,
   "metadata": {},
   "outputs": [
    {
     "data": {
      "image/png": "[encoded data removed]",
      "text/plain": [
       "<Figure size 640x480 with 1 Axes>"
      ]
     },
     "metadata": {},
     "output_type": "display_data"
    }
   ],
   "source": [
    "#@ INSPECTION:\n",
    "plt.plot(scores['eta=0.1'].num_iter, scores['eta=0.1'].val_auc,\n",
    "        label='0.1')\n",
    "plt.plot(scores['eta=0.3'].num_iter, scores['eta=0.3'].val_auc,\n",
    "        label='0.3')\n",
    "plt.legend()\n",
    "plt.show()"
   ]
  },
  {
   "cell_type": "code",
   "execution_count": 370,
   "metadata": {},
   "outputs": [],
   "source": [
    "scores = {}"
   ]
  },
  {
   "cell_type": "code",
   "execution_count": 374,
   "metadata": {},
   "outputs": [],
   "source": [
    "%%capture output\n",
    "\n",
    "xgb_params = {\n",
    "    'eta': 0.3, \n",
    "    'max_depth': 10,\n",
    "    'min_child_weight': 1,\n",
    "\n",
    "    'objective': 'binary:logistic',\n",
    "    'eval_metric': 'auc',\n",
    "    \n",
    "    'nthread': 8,\n",
    "    'seed': 1,\n",
    "    'verbosity': 1,\n",
    "}\n",
    "\n",
    "model = xgb.train(xgb_params, dtrain, num_boost_round=100,\n",
    "                  verbose_eval=1, evals=watchlist)"
   ]
  },
  {
   "cell_type": "code",
   "execution_count": 375,
   "metadata": {},
   "outputs": [],
   "source": [
    "key = 'max_depth=%s' % (xgb_params['max_depth'])\n",
    "scores[key] = parse_xgb_output(output)"
   ]
  },
  {
   "cell_type": "code",
   "execution_count": 376,
   "metadata": {},
   "outputs": [
    {
     "data": {
      "text/plain": [
       "<matplotlib.legend.Legend at 0x7f6741230ca0>"
      ]
     },
     "execution_count": 376,
     "metadata": {},
     "output_type": "execute_result"
    },
    {
     "data": {
      "image/png": "[encoded data removed]",
      "text/plain": [
       "<Figure size 640x480 with 1 Axes>"
      ]
     },
     "metadata": {},
     "output_type": "display_data"
    }
   ],
   "source": [
    "for max_depth, df_score in scores.items():\n",
    "    plt.plot(df_score.num_iter, df_score.val_auc, label=max_depth)\n",
    "\n",
    "plt.legend()"
   ]
  },
  {
   "cell_type": "markdown",
   "metadata": {},
   "source": [
    "### Final model"
   ]
  },
  {
   "cell_type": "code",
   "execution_count": 381,
   "metadata": {},
   "outputs": [
    {
     "data": {
      "text/plain": [
       "(1347, 360)"
      ]
     },
     "execution_count": 381,
     "metadata": {},
     "output_type": "execute_result"
    }
   ],
   "source": [
    "#@ split_data\n",
    "df_train_full, df_test = train_test_split(df, test_size=0.2, random_state=42)\n",
    "\n",
    "df_train_full = df_train.reset_index(drop=True)\n",
    "df_test = df_test.reset_index(drop=True)\n",
    "\n",
    "len(df_train_full), len(df_test)"
   ]
  },
  {
   "cell_type": "code",
   "execution_count": 382,
   "metadata": {},
   "outputs": [],
   "source": [
    "y_train_full = df_train_full.signals.values\n",
    "y_test = df_test.signals.values"
   ]
  },
  {
   "cell_type": "code",
   "execution_count": 383,
   "metadata": {},
   "outputs": [],
   "source": [
    "train_dict = df_train_full[features].to_dict(orient=\"records\")\n",
    "dv = DictVectorizer(sparse=False)\n",
    "dv.fit(train_dict)\n",
    "X_train = dv.transform(train_dict)\n",
    "\n",
    "test_dict = df_test[features].to_dict(orient='records')\n",
    "X_test = dv.transform(test_dict)"
   ]
  },
  {
   "cell_type": "code",
   "execution_count": 384,
   "metadata": {},
   "outputs": [],
   "source": [
    "#@ CREATING THE DMARTIX:\n",
    "features = dv.feature_names_\n",
    "\n",
    "regex = re.compile(r\"<\", re.IGNORECASE)\n",
    "features = [regex.sub(\"_\", col) if any(x in str(col) for x in set(('[', ']', '<'))) else col for col in features]\n",
    "\n",
    "dtrain = xgb.DMatrix(X_train, label=y_train_full, feature_names=features)\n",
    "dtest = xgb.DMatrix(X_test, label=y_test, feature_names=features)"
   ]
  },
  {
   "cell_type": "code",
   "execution_count": 385,
   "metadata": {},
   "outputs": [],
   "source": [
    "xgb_params = {\n",
    "    'eta': 0.3, \n",
    "    'max_depth': 10,\n",
    "    'min_child_weight': 1,\n",
    "\n",
    "    'objective': 'binary:logistic',\n",
    "    'eval_metric': 'auc',\n",
    "    \n",
    "    'nthread': 8,\n",
    "    'seed': 1,\n",
    "    'verbosity': 1,\n",
    "}\n",
    "\n",
    "model = xgb.train(xgb_params, dtrain, num_boost_round=100,\n",
    "                  verbose_eval=1)"
   ]
  },
  {
   "cell_type": "code",
   "execution_count": 388,
   "metadata": {},
   "outputs": [
    {
     "data": {
      "text/plain": [
       "0.9878359880537582"
      ]
     },
     "execution_count": 388,
     "metadata": {},
     "output_type": "execute_result"
    }
   ],
   "source": [
    "y_pred = model.predict(dtest)\n",
    "roc_auc_score(y_test, y_pred)"
   ]
  },
  {
   "cell_type": "markdown",
   "metadata": {},
   "source": [
    "### Saving the model"
   ]
  },
  {
   "cell_type": "code",
   "execution_count": 390,
   "metadata": {},
   "outputs": [],
   "source": [
    "# import joblib\n",
    "\n",
    "# joblib.dump(dv, 'dv.pkl')\n",
    "# joblib.dump(model, 'xgb_model.pkl')"
   ]
  },
  {
   "cell_type": "code",
   "execution_count": null,
   "metadata": {},
   "outputs": [],
   "source": [
    "\n"
   ]
  }
 ],
 "metadata": {
  "kernelspec": {
   "display_name": "ml-zoomcamp",
   "language": "python",
   "name": "python3"
  },
  "language_info": {
   "codemirror_mode": {
    "name": "ipython",
    "version": 3
   },
   "file_extension": ".py",
   "mimetype": "text/x-python",
   "name": "python",
   "nbconvert_exporter": "python",
   "pygments_lexer": "ipython3",
   "version": "3.9.18"
  }
 },
 "nbformat": 4,
 "nbformat_minor": 2
}
